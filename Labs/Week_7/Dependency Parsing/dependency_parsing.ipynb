{
 "cells": [
  {
   "cell_type": "markdown",
   "id": "c791a939",
   "metadata": {
    "papermill": {
     "duration": 0.01844,
     "end_time": "2021-12-02T11:05:57.863138",
     "exception": false,
     "start_time": "2021-12-02T11:05:57.844698",
     "status": "completed"
    },
    "tags": []
   },
   "source": [
    "## Recap of Dependency Parsing\n",
    "Dependency parsing is the process of analyzing the grammatical structure of a sentence based on the dependencies between words. It helps in understanding the syntactic structure of a sentence by establishing relationships between \"head\" words and words which modify those heads.\n",
    "\n",
    "In this notebook, we will explore how to implement dependency parsing using the `spaCy` library in Python. We will visualize dependency parses, create rules to identify passive voice constructions, and apply these rules to a dataset of sentences.\n",
    "\n",
    "We will also define a function to check if a sentence is in passive voice and apply this function to both active and passive sentences. Finally, we will verify the function's accuracy on a dataset of active and passive sentences."
   ]
  },
  {
   "cell_type": "code",
   "execution_count": null,
   "id": "79c91de5",
   "metadata": {
    "execution": {
     "iopub.execute_input": "2021-12-02T11:05:57.910006Z",
     "iopub.status.busy": "2021-12-02T11:05:57.905742Z",
     "iopub.status.idle": "2021-12-02T11:06:09.386840Z",
     "shell.execute_reply": "2021-12-02T11:06:09.386084Z",
     "shell.execute_reply.started": "2021-12-02T11:01:22.689661Z"
    },
    "papermill": {
     "duration": 11.506165,
     "end_time": "2021-12-02T11:06:09.387029",
     "exception": false,
     "start_time": "2021-12-02T11:05:57.880864",
     "status": "completed"
    },
    "tags": []
   },
   "outputs": [],
   "source": [
    "import pandas as pd\n",
    "import spacy\n",
    "\n",
    "from spacy import displacy\n",
    "from spacy.matcher import Matcher\n",
    "\n",
    "nlp = spacy.load(\"en_core_web_sm\")"
   ]
  },
  {
   "cell_type": "markdown",
   "id": "3c6f33c4",
   "metadata": {
    "papermill": {
     "duration": 0.016733,
     "end_time": "2021-12-02T11:06:09.423303",
     "exception": false,
     "start_time": "2021-12-02T11:06:09.406570",
     "status": "completed"
    },
    "tags": []
   },
   "source": [
    "Let's create an example set of active and passive"
   ]
  },
  {
   "cell_type": "code",
   "execution_count": null,
   "id": "f32cc9ad",
   "metadata": {
    "execution": {
     "iopub.execute_input": "2021-12-02T11:06:09.463675Z",
     "iopub.status.busy": "2021-12-02T11:06:09.462998Z",
     "iopub.status.idle": "2021-12-02T11:06:09.465783Z",
     "shell.execute_reply": "2021-12-02T11:06:09.465261Z",
     "shell.execute_reply.started": "2021-12-02T11:01:23.597875Z"
    },
    "papermill": {
     "duration": 0.025541,
     "end_time": "2021-12-02T11:06:09.465930",
     "exception": false,
     "start_time": "2021-12-02T11:06:09.440389",
     "status": "completed"
    },
    "tags": []
   },
   "outputs": [],
   "source": [
    "active = ['Hens lay eggs.',\n",
    "         'Birds build nests.']\n",
    "passive = ['Eggs are laid by hens',\n",
    "           'Nests are built by birds']"
   ]
  },
  {
   "cell_type": "markdown",
   "id": "db723ead",
   "metadata": {
    "papermill": {
     "duration": 0.017614,
     "end_time": "2021-12-02T11:06:09.500816",
     "exception": false,
     "start_time": "2021-12-02T11:06:09.483202",
     "status": "completed"
    },
    "tags": []
   },
   "source": [
    "let's visualize the tokens"
   ]
  },
  {
   "cell_type": "code",
   "execution_count": null,
   "id": "5416f397",
   "metadata": {
    "execution": {
     "iopub.execute_input": "2021-12-02T11:06:09.543858Z",
     "iopub.status.busy": "2021-12-02T11:06:09.543168Z",
     "iopub.status.idle": "2021-12-02T11:06:09.567658Z",
     "shell.execute_reply": "2021-12-02T11:06:09.568277Z",
     "shell.execute_reply.started": "2021-12-02T11:01:23.604799Z"
    },
    "papermill": {
     "duration": 0.049594,
     "end_time": "2021-12-02T11:06:09.568489",
     "exception": false,
     "start_time": "2021-12-02T11:06:09.518895",
     "status": "completed"
    },
    "tags": []
   },
   "outputs": [],
   "source": [
    "doc = nlp(active[0])\n",
    "\n",
    "for token in doc:\n",
    "    print(token.text, \" -- \", token.dep_)"
   ]
  },
  {
   "cell_type": "code",
   "execution_count": null,
   "id": "f003154b",
   "metadata": {
    "execution": {
     "iopub.execute_input": "2021-12-02T11:06:09.616270Z",
     "iopub.status.busy": "2021-12-02T11:06:09.615263Z",
     "iopub.status.idle": "2021-12-02T11:06:09.620037Z",
     "shell.execute_reply": "2021-12-02T11:06:09.619502Z",
     "shell.execute_reply.started": "2021-12-02T11:01:23.626617Z"
    },
    "papermill": {
     "duration": 0.033213,
     "end_time": "2021-12-02T11:06:09.620203",
     "exception": false,
     "start_time": "2021-12-02T11:06:09.586990",
     "status": "completed"
    },
    "tags": []
   },
   "outputs": [],
   "source": [
    "displacy.render(doc, style=\"dep\")"
   ]
  },
  {
   "cell_type": "markdown",
   "id": "1093cb83",
   "metadata": {
    "papermill": {
     "duration": 0.018261,
     "end_time": "2021-12-02T11:06:09.656903",
     "exception": false,
     "start_time": "2021-12-02T11:06:09.638642",
     "status": "completed"
    },
    "tags": []
   },
   "source": [
    "#### Visualizing Active and Passive Voice Sentences\n",
    "\n",
    "In this section, we will visualize the dependency parsing of both active and passive voice sentences. This will help us understand the grammatical structure and the relationships between the words in each sentence.\n",
    "\n",
    "### Active Voice Sentences\n",
    "We will start by visualizing the active voice sentences. The dependency parsing will show how each word in the sentence is related to the others.\n",
    "\n",
    "### Passive Voice Sentences\n",
    "Next, we will visualize the passive voice sentences. The dependency parsing will highlight the differences in structure compared to the active voice sentences."
   ]
  },
  {
   "cell_type": "code",
   "execution_count": null,
   "id": "de056372",
   "metadata": {
    "execution": {
     "iopub.execute_input": "2021-12-02T11:06:09.704328Z",
     "iopub.status.busy": "2021-12-02T11:06:09.696245Z",
     "iopub.status.idle": "2021-12-02T11:06:09.762958Z",
     "shell.execute_reply": "2021-12-02T11:06:09.762363Z",
     "shell.execute_reply.started": "2021-12-02T11:01:23.637413Z"
    },
    "papermill": {
     "duration": 0.088157,
     "end_time": "2021-12-02T11:06:09.763126",
     "exception": false,
     "start_time": "2021-12-02T11:06:09.674969",
     "status": "completed"
    },
    "tags": []
   },
   "outputs": [],
   "source": [
    "print(\"Active Voice Sentences\")\n",
    "print(\"------------------------------------------------------------------\")\n",
    "for sent in active:\n",
    "    doc = nlp(sent)\n",
    "\n",
    "    for token in doc:\n",
    "        print(token.text, \" -- \", token.dep_)\n",
    "    \n",
    "    displacy.render(doc, style=\"dep\")\n",
    "\n",
    "print(\"\\n\")\n",
    "print(\"Passive Voice Sentences\")\n",
    "print(\"------------------------------------------------------------------\")\n",
    "for sent in passive:\n",
    "    doc = nlp(sent)\n",
    "\n",
    "    for token in doc:\n",
    "        print(token.text, \" -- \", token.dep_)\n",
    "    \n",
    "    displacy.render(doc, style=\"dep\")"
   ]
  },
  {
   "cell_type": "markdown",
   "id": "d66ed048",
   "metadata": {
    "papermill": {
     "duration": 0.022164,
     "end_time": "2021-12-02T11:06:09.808328",
     "exception": false,
     "start_time": "2021-12-02T11:06:09.786164",
     "status": "completed"
    },
    "tags": []
   },
   "source": [
    "#### Creating a Rule for `passive voice`\n",
    "\n",
    "To identify passive voice sentences, we will create a rule using the `Matcher` class from the `spaCy` library. The rule will look for tokens with the dependency label `nsubjpass`, which indicates a passive nominal subject.\n",
    "\n",
    "We are using this code to create a rule that identifies passive voice sentences by looking for tokens with the dependency label `nsubjpass`. The `Matcher` class from the `spaCy` library allows us to define and apply such rules efficiently. By adding this rule to the matcher and applying it to a sentence, we can detect whether the sentence is in passive voice based on its syntactic structure."
   ]
  },
  {
   "cell_type": "code",
   "execution_count": null,
   "id": "befe3bd3",
   "metadata": {
    "execution": {
     "iopub.execute_input": "2021-12-02T11:06:09.859529Z",
     "iopub.status.busy": "2021-12-02T11:06:09.858805Z",
     "iopub.status.idle": "2021-12-02T11:06:09.870074Z",
     "shell.execute_reply": "2021-12-02T11:06:09.870550Z",
     "shell.execute_reply.started": "2021-12-02T11:01:23.701799Z"
    },
    "papermill": {
     "duration": 0.040477,
     "end_time": "2021-12-02T11:06:09.870785",
     "exception": false,
     "start_time": "2021-12-02T11:06:09.830308",
     "status": "completed"
    },
    "tags": []
   },
   "outputs": [],
   "source": [
    "passive_rule = [{'DEP':'nsubjpass'}]\n",
    "\n",
    "matcher = Matcher(nlp.vocab)\n",
    "matcher.add(\"Rule\", [passive_rule])\n",
    "matcher(nlp(passive[0]))"
   ]
  },
  {
   "cell_type": "markdown",
   "id": "7a20ee7f",
   "metadata": {
    "papermill": {
     "duration": 0.022383,
     "end_time": "2021-12-02T11:06:09.915630",
     "exception": false,
     "start_time": "2021-12-02T11:06:09.893247",
     "status": "completed"
    },
    "tags": []
   },
   "source": [
    "#### `Passive Voice` : A Function\n",
    "\n",
    "In this section, we define a function `is_passive` that determines whether a given sentence is in passive voice. The function uses the `Matcher` class from the `spaCy` library to identify tokens with dependency labels `nsubjpass` and `auxpass`, which are indicative of passive voice constructions.\n",
    "\n",
    "The function returns a boolean value indicating whether the sentence is in passive voice, along with the matched words."
   ]
  },
  {
   "cell_type": "code",
   "execution_count": null,
   "id": "86cd64eb",
   "metadata": {
    "execution": {
     "iopub.execute_input": "2021-12-02T11:06:09.968699Z",
     "iopub.status.busy": "2021-12-02T11:06:09.967810Z",
     "iopub.status.idle": "2021-12-02T11:06:09.970749Z",
     "shell.execute_reply": "2021-12-02T11:06:09.970054Z",
     "shell.execute_reply.started": "2021-12-02T11:03:33.178258Z"
    },
    "papermill": {
     "duration": 0.032183,
     "end_time": "2021-12-02T11:06:09.971091",
     "exception": false,
     "start_time": "2021-12-02T11:06:09.938908",
     "status": "completed"
    },
    "tags": []
   },
   "outputs": [],
   "source": [
    "def is_passive(doc):\n",
    "    \n",
    "    passive_rule = [{'DEP':{\"IN\":['nsubjpass', 'auxpass']}}]\n",
    "\n",
    "    matcher = Matcher(nlp.vocab)\n",
    "    matcher.add(\"Rule\", [passive_rule])\n",
    "    \n",
    "    if len(matcher(doc)) > 0:\n",
    "        words = []\n",
    "        \n",
    "        for match in matcher(doc):\n",
    "            words.append(doc[match[1]:match[2]])\n",
    "            \n",
    "        return True, words\n",
    "    else:\n",
    "        return False"
   ]
  },
  {
   "cell_type": "markdown",
   "id": "4d8cc15b",
   "metadata": {
    "papermill": {
     "duration": 0.02272,
     "end_time": "2021-12-02T11:06:10.016345",
     "exception": false,
     "start_time": "2021-12-02T11:06:09.993625",
     "status": "completed"
    },
    "tags": []
   },
   "source": [
    "#### Verifying All Parses\n",
    "\n",
    "Now we will verify the parses for both active and passive sentences. We will use the `is_passive` function to check each sentence and print the results. This will help us ensure that our function correctly identifies passive voice constructions."
   ]
  },
  {
   "cell_type": "code",
   "execution_count": null,
   "id": "ea7f10c5",
   "metadata": {
    "execution": {
     "iopub.execute_input": "2021-12-02T11:06:10.071273Z",
     "iopub.status.busy": "2021-12-02T11:06:10.069471Z",
     "iopub.status.idle": "2021-12-02T11:06:10.086231Z",
     "shell.execute_reply": "2021-12-02T11:06:10.085421Z",
     "shell.execute_reply.started": "2021-12-02T11:03:39.466881Z"
    },
    "papermill": {
     "duration": 0.046738,
     "end_time": "2021-12-02T11:06:10.086439",
     "exception": false,
     "start_time": "2021-12-02T11:06:10.039701",
     "status": "completed"
    },
    "tags": []
   },
   "outputs": [],
   "source": [
    "for sent in active:\n",
    "    doc = nlp(sent)\n",
    "    print(is_passive(doc))"
   ]
  },
  {
   "cell_type": "code",
   "execution_count": null,
   "id": "f0b4ad0c",
   "metadata": {
    "execution": {
     "iopub.execute_input": "2021-12-02T11:06:10.137857Z",
     "iopub.status.busy": "2021-12-02T11:06:10.137171Z",
     "iopub.status.idle": "2021-12-02T11:06:10.157303Z",
     "shell.execute_reply": "2021-12-02T11:06:10.156684Z",
     "shell.execute_reply.started": "2021-12-02T11:03:41.187942Z"
    },
    "papermill": {
     "duration": 0.048314,
     "end_time": "2021-12-02T11:06:10.157452",
     "exception": false,
     "start_time": "2021-12-02T11:06:10.109138",
     "status": "completed"
    },
    "tags": []
   },
   "outputs": [],
   "source": [
    "for sent in passive:\n",
    "    doc = nlp(sent)\n",
    "    print(is_passive(doc))"
   ]
  },
  {
   "cell_type": "markdown",
   "id": "70c08873",
   "metadata": {
    "papermill": {
     "duration": 0.022481,
     "end_time": "2021-12-02T11:06:10.202995",
     "exception": false,
     "start_time": "2021-12-02T11:06:10.180514",
     "status": "completed"
    },
    "tags": []
   },
   "source": [
    "#### Dataset of Active and Passive Sentences\n",
    "\n",
    "We will work with a dataset containing 40 sentences, which are in both active and passive forms. This dataset will help us test and validate our function for identifying passive voice constructions. We will use this dataset to ensure that our function performs accurately on a larger set of sentences."
   ]
  },
  {
   "cell_type": "code",
   "execution_count": null,
   "id": "9a45aa36",
   "metadata": {
    "execution": {
     "iopub.execute_input": "2021-12-02T11:06:10.254203Z",
     "iopub.status.busy": "2021-12-02T11:06:10.253498Z",
     "iopub.status.idle": "2021-12-02T11:06:10.278514Z",
     "shell.execute_reply": "2021-12-02T11:06:10.279264Z",
     "shell.execute_reply.started": "2021-12-02T11:01:23.776188Z"
    },
    "papermill": {
     "duration": 0.053918,
     "end_time": "2021-12-02T11:06:10.279448",
     "exception": false,
     "start_time": "2021-12-02T11:06:10.225530",
     "status": "completed"
    },
    "tags": []
   },
   "outputs": [],
   "source": [
    "active_passive = pd.read_csv(\"active_passive.csv\")\n",
    "active_passive.head(2)"
   ]
  },
  {
   "cell_type": "code",
   "execution_count": null,
   "id": "d143428a",
   "metadata": {
    "execution": {
     "iopub.execute_input": "2021-12-02T11:06:10.332355Z",
     "iopub.status.busy": "2021-12-02T11:06:10.331664Z",
     "iopub.status.idle": "2021-12-02T11:06:10.334883Z",
     "shell.execute_reply": "2021-12-02T11:06:10.335438Z",
     "shell.execute_reply.started": "2021-12-02T11:01:23.792838Z"
    },
    "papermill": {
     "duration": 0.032665,
     "end_time": "2021-12-02T11:06:10.335635",
     "exception": false,
     "start_time": "2021-12-02T11:06:10.302970",
     "status": "completed"
    },
    "tags": []
   },
   "outputs": [],
   "source": [
    "active_passive.shape"
   ]
  },
  {
   "cell_type": "code",
   "execution_count": null,
   "id": "9ac4ab55",
   "metadata": {
    "execution": {
     "iopub.execute_input": "2021-12-02T11:06:10.392445Z",
     "iopub.status.busy": "2021-12-02T11:06:10.391785Z",
     "iopub.status.idle": "2021-12-02T11:06:10.394796Z",
     "shell.execute_reply": "2021-12-02T11:06:10.394229Z",
     "shell.execute_reply.started": "2021-12-02T11:01:23.800529Z"
    },
    "papermill": {
     "duration": 0.035595,
     "end_time": "2021-12-02T11:06:10.394961",
     "exception": false,
     "start_time": "2021-12-02T11:06:10.359366",
     "status": "completed"
    },
    "tags": []
   },
   "outputs": [],
   "source": [
    "active_set = active_passive.Active\n",
    "passive_set = active_passive.Passive"
   ]
  },
  {
   "cell_type": "markdown",
   "id": "236ce251",
   "metadata": {},
   "source": [
    "#### Check Function on `Active Sentences`\n",
    "\n",
    "let's will verify the accuracy of our `is_passive` function on active sentences from our dataset. We will iterate through each active sentence and use the function to check if it is correctly identified as not being in passive voice. The count of correctly identified active sentences will be printed."
   ]
  },
  {
   "cell_type": "code",
   "execution_count": null,
   "id": "e8c569f0",
   "metadata": {
    "execution": {
     "iopub.execute_input": "2021-12-02T11:06:10.495477Z",
     "iopub.status.busy": "2021-12-02T11:06:10.494695Z",
     "iopub.status.idle": "2021-12-02T11:06:10.792437Z",
     "shell.execute_reply": "2021-12-02T11:06:10.793206Z",
     "shell.execute_reply.started": "2021-12-02T11:01:23.815119Z"
    },
    "papermill": {
     "duration": 0.328367,
     "end_time": "2021-12-02T11:06:10.793472",
     "exception": false,
     "start_time": "2021-12-02T11:06:10.465105",
     "status": "completed"
    },
    "tags": []
   },
   "outputs": [],
   "source": [
    "cnt = 0\n",
    "for sent in active_passive.Active:\n",
    "    if not is_passive(nlp(sent)):\n",
    "        cnt += 1\n",
    "        \n",
    "print(\"Active Sentences : \", cnt)"
   ]
  },
  {
   "cell_type": "markdown",
   "id": "0293aafd",
   "metadata": {
    "papermill": {
     "duration": 0.0238,
     "end_time": "2021-12-02T11:06:10.842272",
     "exception": false,
     "start_time": "2021-12-02T11:06:10.818472",
     "status": "completed"
    },
    "tags": []
   },
   "source": [
    "#### Check Function on `Passive Sentences`\n",
    "\n",
    "We will verify the accuracy of our `is_passive` function on passive sentences from our dataset. We will iterate through each passive sentence and use the function to check if it is correctly identified as being in passive voice. The count of correctly identified passive sentences will be printed."
   ]
  },
  {
   "cell_type": "code",
   "execution_count": null,
   "id": "fd5cf2fa",
   "metadata": {
    "execution": {
     "iopub.execute_input": "2021-12-02T11:06:10.894280Z",
     "iopub.status.busy": "2021-12-02T11:06:10.893552Z",
     "iopub.status.idle": "2021-12-02T11:06:11.168227Z",
     "shell.execute_reply": "2021-12-02T11:06:11.168788Z",
     "shell.execute_reply.started": "2021-12-02T11:03:51.392761Z"
    },
    "papermill": {
     "duration": 0.302559,
     "end_time": "2021-12-02T11:06:11.169007",
     "exception": false,
     "start_time": "2021-12-02T11:06:10.866448",
     "status": "completed"
    },
    "tags": []
   },
   "outputs": [],
   "source": [
    "cnt = 0\n",
    "for sent in active_passive.Passive:\n",
    "    if is_passive(nlp(sent)):\n",
    "        cnt += 1\n",
    "        \n",
    "print(\"Passive Sentences : \", cnt)"
   ]
  },
  {
   "cell_type": "markdown",
   "id": "8519a842",
   "metadata": {},
   "source": [
    "## Conclusion\n",
    "\n",
    "In this notebook, we explored the process of dependency parsing using the `spaCy` library in Python. We visualized the dependency parses of both active and passive voice sentences, which helped us understand their grammatical structures. We then created a rule to identify passive voice constructions and implemented a function `is_passive` to determine whether a given sentence is in passive voice.\n",
    "\n",
    "We verified the accuracy of our function on a dataset of active and passive sentences, ensuring that it correctly identified the voice of each sentence. The results demonstrated the effectiveness of our approach in distinguishing between active and passive voice constructions.\n",
    "\n",
    "This notebook provides a comprehensive guide to implementing and applying dependency parsing for syntactic analysis, with a specific focus on identifying passive voice sentences. The techniques and methods discussed here can be extended to other linguistic tasks and applications."
   ]
  }
 ],
 "metadata": {
  "kernelspec": {
   "display_name": "Python 3",
   "language": "python",
   "name": "python3"
  },
  "language_info": {
   "codemirror_mode": {
    "name": "ipython",
    "version": 3
   },
   "file_extension": ".py",
   "mimetype": "text/x-python",
   "name": "python",
   "nbconvert_exporter": "python",
   "pygments_lexer": "ipython3",
   "version": "3.7.10"
  },
  "papermill": {
   "default_parameters": {},
   "duration": 26.692147,
   "end_time": "2021-12-02T11:06:14.503709",
   "environment_variables": {},
   "exception": null,
   "input_path": "__notebook__.ipynb",
   "output_path": "__notebook__.ipynb",
   "parameters": {},
   "start_time": "2021-12-02T11:05:47.811562",
   "version": "2.3.3"
  }
 },
 "nbformat": 4,
 "nbformat_minor": 5
}
