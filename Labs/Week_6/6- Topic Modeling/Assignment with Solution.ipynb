{
 "cells": [
  {
   "cell_type": "code",
   "execution_count": 21,
   "metadata": {},
   "outputs": [
    {
     "name": "stderr",
     "output_type": "stream",
     "text": [
      "[nltk_data] Downloading package punkt to\n",
      "[nltk_data]     /Users/divyahegde/nltk_data...\n",
      "[nltk_data]   Package punkt is already up-to-date!\n",
      "[nltk_data] Downloading package stopwords to\n",
      "[nltk_data]     /Users/divyahegde/nltk_data...\n",
      "[nltk_data]   Package stopwords is already up-to-date!\n",
      "[nltk_data] Downloading package wordnet to\n",
      "[nltk_data]     /Users/divyahegde/nltk_data...\n",
      "[nltk_data]   Package wordnet is already up-to-date!\n"
     ]
    },
    {
     "data": {
      "text/plain": [
       "True"
      ]
     },
     "execution_count": 21,
     "metadata": {},
     "output_type": "execute_result"
    }
   ],
   "source": [
    "# Import necessary libraries\n",
    "from sklearn.datasets import fetch_20newsgroups\n",
    "from sklearn.feature_extraction.text import CountVectorizer\n",
    "from sklearn.decomposition import LatentDirichletAllocation\n",
    "from sklearn.model_selection import train_test_split\n",
    "from nltk.corpus import stopwords\n",
    "from nltk.stem import WordNetLemmatizer\n",
    "from nltk.tokenize import word_tokenize\n",
    "from gensim.models.coherencemodel import CoherenceModel\n",
    "from gensim.corpora.dictionary import Dictionary\n",
    "import matplotlib.pyplot as plt\n",
    "import nltk\n",
    "import pandas as pd\n",
    "import numpy as np\n",
    "\n",
    "# Download necessary NLTK resources\n",
    "nltk.download('punkt')\n",
    "nltk.download('stopwords')\n",
    "nltk.download('wordnet')\n"
   ]
  },
  {
   "cell_type": "markdown",
   "metadata": {},
   "source": [
    "## Load dataset"
   ]
  },
  {
   "cell_type": "code",
   "execution_count": 22,
   "metadata": {},
   "outputs": [],
   "source": [
    "# Load 20 Newsgroups dataset\n",
    "newsgroups_train = fetch_20newsgroups(subset='train', remove=('headers', 'footers', 'quotes'))\n",
    "newsgroups_test = fetch_20newsgroups(subset='test', remove=('headers', 'footers', 'quotes'))"
   ]
  },
  {
   "cell_type": "code",
   "execution_count": 23,
   "metadata": {},
   "outputs": [
    {
     "data": {
      "text/plain": [
       "'I was wondering if anyone out there could enlighten me on this car I saw\\nthe other day. It was a 2-door sports car, looked to be from the late 60s/\\nearly 70s. It was called a Bricklin. The doors were really small. In addition,\\nthe front bumper was separate from the rest of the body. This is \\nall I know. If anyone can tellme a model name, engine specs, years\\nof production, where this car is made, history, or whatever info you\\nhave on this funky looking car, please e-mail.'"
      ]
     },
     "execution_count": 23,
     "metadata": {},
     "output_type": "execute_result"
    }
   ],
   "source": [
    "[text for text in newsgroups_train.data][0]"
   ]
  },
  {
   "cell_type": "markdown",
   "metadata": {},
   "source": [
    "## Pre-processing text"
   ]
  },
  {
   "cell_type": "code",
   "execution_count": 24,
   "metadata": {},
   "outputs": [],
   "source": [
    "# Text preprocessing function\n",
    "def preprocess_text(text):\n",
    "    stop_words = set(stopwords.words('english'))\n",
    "    lemmatizer = WordNetLemmatizer()\n",
    "    tokens = word_tokenize(text.lower())  # Tokenize and convert to lowercase\n",
    "    tokens = [lemmatizer.lemmatize(token) for token in tokens if token.isalpha() and token not in stop_words]\n",
    "    return ' '.join(tokens)\n",
    "\n",
    "# Apply preprocessing to the dataset\n",
    "train_data = [preprocess_text(text) for text in newsgroups_train.data]\n",
    "test_data = [preprocess_text(text) for text in newsgroups_test.data]\n",
    "\n"
   ]
  },
  {
   "cell_type": "markdown",
   "metadata": {},
   "source": [
    "## Vectorization"
   ]
  },
  {
   "cell_type": "code",
   "execution_count": 25,
   "metadata": {},
   "outputs": [],
   "source": [
    "# Vectorize using CountVectorizer with custom settings\n",
    "vectorizer = CountVectorizer(max_features=10000, ngram_range=(1, 2), stop_words='english')\n",
    "train_vectors = vectorizer.fit_transform(train_data)"
   ]
  },
  {
   "cell_type": "markdown",
   "metadata": {},
   "source": [
    "## Modeling and training"
   ]
  },
  {
   "cell_type": "code",
   "execution_count": 26,
   "metadata": {},
   "outputs": [],
   "source": [
    "# Train LDA model\n",
    "def train_lda(n_topics, train_vectors):\n",
    "    lda = LatentDirichletAllocation(n_components=n_topics, learning_decay=0.7, max_iter=10, random_state=42, n_jobs=-1)\n",
    "    lda.fit(train_vectors)\n",
    "    return lda\n",
    "\n",
    "# Display top terms for each topic\n",
    "def display_topics(model, feature_names, no_top_words=10):\n",
    "    for topic_idx, topic in enumerate(model.components_):\n",
    "        print(f\"Topic {topic_idx}:\")\n",
    "        print(\" \".join([feature_names[i] for i in topic.argsort()[:-no_top_words - 1:-1]]))\n"
   ]
  },
  {
   "cell_type": "code",
   "execution_count": 27,
   "metadata": {},
   "outputs": [
    {
     "name": "stdout",
     "output_type": "stream",
     "text": [
      "\n",
      "Top Terms for Model with 10 Topics:\n",
      "\n",
      "Topic 0:\n",
      "game team year play good season player win time pt\n",
      "Topic 1:\n",
      "god people say think jesus christian know believe thing like\n",
      "Topic 2:\n",
      "key car government use chip encryption year new like time\n",
      "Topic 3:\n",
      "armenian israel state turkish jew people israeli war government arab\n",
      "Topic 4:\n",
      "drive like know problem card thanks work use disk time\n",
      "Topic 5:\n",
      "space color file use window video problem nasa mode image\n",
      "Topic 6:\n",
      "gun firearm new file rate hockey player team period canada\n",
      "Topic 7:\n",
      "people know think right said say time like going year\n",
      "Topic 8:\n",
      "max max max bhj entry giz output file wm ah gk\n",
      "Topic 9:\n",
      "file window program use available information version image software server\n",
      "\n",
      "Top Terms for Model with 20 Topics:\n",
      "\n",
      "Topic 0:\n",
      "thanks information email send know address space post mail computer\n",
      "Topic 1:\n",
      "god people say think jesus christian believe know thing life\n",
      "Topic 2:\n",
      "car space year like time engine launch new good satellite\n",
      "Topic 3:\n",
      "israel israeli jew arab greek war state right people country\n",
      "Topic 4:\n",
      "like problem know work time use need drive good bike\n",
      "Topic 5:\n",
      "drive card disk monitor memory video ram controller space hard\n",
      "Topic 6:\n",
      "gun firearm weapon crime rate control law handgun criminal state\n",
      "Topic 7:\n",
      "people right year make think like state time good government\n",
      "Topic 8:\n",
      "max max max entry bhj giz file output wm gk bj\n",
      "Topic 9:\n",
      "window use application widget program server using problem set motif\n",
      "Topic 10:\n",
      "game play pt period goal team la point second shot\n",
      "Topic 11:\n",
      "know said say people time went like think day going\n",
      "Topic 12:\n",
      "sale offer price shipping new condition ah air sell mv\n",
      "Topic 13:\n",
      "file image version program available software window use ftp graphic\n",
      "Topic 14:\n",
      "president people think stephanopoulos going state know job program tax\n",
      "Topic 15:\n",
      "power wire ground water food circuit point use current msg\n",
      "Topic 16:\n",
      "armenian people turkish genocide patient year nazi russian history doctor\n",
      "Topic 17:\n",
      "key government encryption chip law use clipper security public people\n",
      "Topic 18:\n",
      "team game player hockey league season new year nhl list\n",
      "Topic 19:\n",
      "db db db health mov ripem use center medical cancer number\n",
      "\n",
      "Top Terms for Model with 30 Topics:\n",
      "\n",
      "Topic 0:\n",
      "thanks know help advance hi like appreciated email looking reply\n",
      "Topic 1:\n",
      "god jesus christian say people believe bible church think life\n",
      "Topic 2:\n",
      "car like time engine good problem make speed year light\n",
      "Topic 3:\n",
      "israel israeli jew arab greek right jewish palestinian state peace\n",
      "Topic 4:\n",
      "bike like port modem work new time know problem use\n",
      "Topic 5:\n",
      "drive disk scsi controller hard card ide memory problem floppy\n",
      "Topic 6:\n",
      "gun firearm crime weapon rate law state control handgun insurance\n",
      "Topic 7:\n",
      "people right government state make think like time say child\n",
      "Topic 8:\n",
      "max max max bhj giz wm gk bj ax bhj bhj giz giz\n",
      "Topic 9:\n",
      "science test like work case use scientific time mean problem\n",
      "Topic 10:\n",
      "key chip bit know line point number problem block serial\n",
      "Topic 11:\n",
      "run good day ball book david game think like john\n",
      "Topic 12:\n",
      "sale offer wire new condition price shipping circuit ground box\n",
      "Topic 13:\n",
      "image window color file version driver program software display use\n",
      "Topic 14:\n",
      "president stephanopoulos know going think said tax job house time\n",
      "Topic 15:\n",
      "power water level plant tower use heat case software cooling\n",
      "Topic 16:\n",
      "armenian turkish people turkey nazi genocide jew history muslim year\n",
      "Topic 17:\n",
      "key encryption government law clipper security chip privacy use public\n",
      "Topic 18:\n",
      "people think like thing group know make good posting drug\n",
      "Topic 19:\n",
      "db db db health mov medical cancer center disease use child\n",
      "Topic 20:\n",
      "game team player play year season league hockey period new\n",
      "Topic 21:\n",
      "article dod deleted know quote like jim stuff question original\n",
      "Topic 22:\n",
      "space launch satellite nasa mission earth orbit data shuttle lunar\n",
      "Topic 23:\n",
      "la pt van bos cal det min pit mon tor\n",
      "Topic 24:\n",
      "card year like good sound time speed price apple mac\n",
      "Topic 25:\n",
      "said know say went people time like going home told\n",
      "Topic 26:\n",
      "program year people money work government cost fund job think\n",
      "Topic 27:\n",
      "mv ah md mr good sq ri hz mm rd\n",
      "Topic 28:\n",
      "available information list send mail user address ftp data internet\n",
      "Topic 29:\n",
      "file window program entry use widget application output set server\n"
     ]
    }
   ],
   "source": [
    "# Train LDA with different numbers of topics\n",
    "n_topics_list = [10, 20, 30]\n",
    "lda_models = []\n",
    "for n_topics in n_topics_list:\n",
    "    lda_models.append(train_lda(n_topics, train_vectors))\n",
    "\n",
    "# Display topics for each trained LDA model\n",
    "for idx, lda_model in enumerate(lda_models):\n",
    "    print(f\"\\nTop Terms for Model with {n_topics_list[idx]} Topics:\\n\")\n",
    "    display_topics(lda_model, vectorizer.get_feature_names_out())\n"
   ]
  },
  {
   "cell_type": "markdown",
   "metadata": {},
   "source": [
    "## Coherence score calculation"
   ]
  },
  {
   "cell_type": "code",
   "execution_count": 28,
   "metadata": {},
   "outputs": [
    {
     "data": {
      "image/png": "[encoded data removed]",
      "text/plain": [
       "<Figure size 1000x600 with 1 Axes>"
      ]
     },
     "metadata": {},
     "output_type": "display_data"
    }
   ],
   "source": [
    "# Compute topic coherence using gensim\n",
    "def compute_coherence_score(lda_model, texts, vectorizer):\n",
    "    lda_topics = [[vectorizer.get_feature_names_out()[i] for i in topic.argsort()[:-10 - 1:-1]] for topic in lda_model.components_]\n",
    "    dictionary = Dictionary([text.split() for text in texts])\n",
    "    corpus = [dictionary.doc2bow(text.split()) for text in texts]\n",
    "    coherence_model = CoherenceModel(topics=lda_topics, texts=[text.split() for text in texts],\n",
    "                                     dictionary=dictionary, coherence='u_mass')\n",
    "    return coherence_model.get_coherence()\n",
    "\n",
    "# Evaluate coherence scores\n",
    "coherence_scores = []\n",
    "for lda_model in lda_models:\n",
    "    coherence_scores.append(compute_coherence_score(lda_model, train_data, vectorizer))\n",
    "\n",
    "# Plot coherence scores\n",
    "plt.figure(figsize=(10, 6))\n",
    "plt.plot(n_topics_list, coherence_scores, marker='o')\n",
    "plt.title('Topic Coherence Scores vs. Number of Topics')\n",
    "plt.xlabel('Number of Topics')\n",
    "plt.ylabel('Coherence Score (UMass)')\n",
    "plt.grid()\n",
    "plt.show()"
   ]
  },
  {
   "cell_type": "code",
   "execution_count": 29,
   "metadata": {},
   "outputs": [
    {
     "data": {
      "text/plain": [
       "[-2.592422470432427, -2.8022514318772074, -2.0740182721566067]"
      ]
     },
     "execution_count": 29,
     "metadata": {},
     "output_type": "execute_result"
    }
   ],
   "source": [
    "coherence_scores"
   ]
  },
  {
   "cell_type": "code",
   "execution_count": null,
   "metadata": {},
   "outputs": [],
   "source": []
  }
 ],
 "metadata": {
  "kernelspec": {
   "display_name": "base",
   "language": "python",
   "name": "python3"
  },
  "language_info": {
   "codemirror_mode": {
    "name": "ipython",
    "version": 3
   },
   "file_extension": ".py",
   "mimetype": "text/x-python",
   "name": "python",
   "nbconvert_exporter": "python",
   "pygments_lexer": "ipython3",
   "version": "3.10.9"
  }
 },
 "nbformat": 4,
 "nbformat_minor": 2
}
