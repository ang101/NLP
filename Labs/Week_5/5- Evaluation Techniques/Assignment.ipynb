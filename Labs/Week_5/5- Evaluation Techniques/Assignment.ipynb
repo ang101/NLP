{
 "cells": [
  {
   "cell_type": "markdown",
   "metadata": {},
   "source": [
    "## Evaluation Techniques Assignment"
   ]
  },
  {
   "cell_type": "markdown",
   "metadata": {},
   "source": [
    "Welcome! You will build a simple LSTM model to calculate the perplexity of the model. \n",
    "This assignment will step you through how to create next probable word using a basic LSTM model. This can be extend to more powerful deep learning models.\n",
    "\n",
    "#### Instructions\n",
    "- Do not modify any of the codes.\n",
    "- Only write code when prompted. For example in some sections you will find the following,\n",
    "```\n",
    "# YOUR CODE GOES HERE\n",
    "# YOUR CODE ENDS HERE\n",
    "# TODO\n",
    "```\n",
    "\n",
    "Only modify those sections of the code."
   ]
  },
  {
   "cell_type": "markdown",
   "metadata": {},
   "source": [
    "You will learn to:\n",
    "\n",
    "- **Prepare a text dataset for sequence modeling**, including:\n",
    "  - Loading and preprocessing text data (IMDb movie reviews).\n",
    "  - Tokenizing the text into bigrams.\n",
    "  - Creating a vocabulary and mapping words to indices.\n",
    "  - Converting words into sequences of numerical indices.\n",
    "  - Preparing input-output sequences for training.\n",
    "\n",
    "- **Build and train an LSTM-based language model**, including:\n",
    "  - Initializing and configuring the architecture of the LSTM model:\n",
    "    - An embedding layer for mapping words to dense vectors.\n",
    "    - An LSTM layer for capturing temporal dependencies in sequences.\n",
    "    - A dense output layer to predict the next word.\n",
    "  - Compiling the model with an appropriate loss function and optimizer.\n",
    "\n",
    "- **Evaluate the model using perplexity**, including:\n",
    "  - Computing the probability of the actual next word in the sequence.\n",
    "  - Calculating the model's perplexity to assess its performance.\n",
    "\n",
    "- **Integrate all components into a streamlined workflow**, in the correct order:\n",
    "  - Preprocess the data.\n",
    "  - Build and compile the LSTM model.\n",
    "  - Calculate perplexity to evaluate the model's predictive power."
   ]
  },
  {
   "cell_type": "code",
   "execution_count": 1,
   "metadata": {},
   "outputs": [],
   "source": [
    "import tensorflow as tf\n",
    "import numpy as np\n",
    "import tensorflow_datasets as tfds\n",
    "from helper import build_LSTM_model, compile_LSTM_model, train_LSTM_model, create_input_output\n",
    "from tests import test_dataset_loading, test_vocab_creation, test_sequences, test_model_building, test_training_output, test_perplexity"
   ]
  },
  {
   "cell_type": "markdown",
   "metadata": {},
   "source": [
    "## Data Loading\n",
    "\n",
    "This dataset contains a large collection of movie reviews from the Internet Movie Database (IMDB). We'll look at a subset of the data."
   ]
  },
  {
   "cell_type": "code",
   "execution_count": 2,
   "metadata": {},
   "outputs": [],
   "source": [
    "dataset, info = tfds.load('imdb_reviews', with_info=True, as_supervised=True)\n",
    "train_data = dataset['train'].map(lambda x, y: x)\n",
    "test_data = dataset['test'].map(lambda x, y: x)\n",
    "test_dataset_loading(train_data, train_data)"
   ]
  },
  {
   "cell_type": "code",
   "execution_count": null,
   "metadata": {},
   "outputs": [],
   "source": [
    "#Limit only first 500 rows in train_data and 100 in test_data\n",
    "\n",
    "train_texts = list(train_data.take(500))\n",
    "test_texts = list(test_data.take(100))"
   ]
  },
  {
   "cell_type": "markdown",
   "metadata": {},
   "source": [
    "### Create Bigrams"
   ]
  },
  {
   "cell_type": "code",
   "execution_count": 4,
   "metadata": {},
   "outputs": [],
   "source": [
    "def tokenize(text):\n",
    "    return text.numpy().decode('utf-8').split()"
   ]
  },
  {
   "cell_type": "code",
   "execution_count": 5,
   "metadata": {},
   "outputs": [],
   "source": [
    "def extract_bigrams(text):\n",
    "    tokenized_words = # YOUR CODE GOES HERE\n",
    "    bigrams = # YOUR CODE GOES HERE\n",
    "    return bigrams"
   ]
  },
  {
   "cell_type": "markdown",
   "metadata": {},
   "source": [
    "### Extract Bigrams"
   ]
  },
  {
   "cell_type": "code",
   "execution_count": 6,
   "metadata": {},
   "outputs": [],
   "source": [
    "# TODO\n",
    "train_bigrams = \n",
    "test_bigrams = "
   ]
  },
  {
   "cell_type": "markdown",
   "metadata": {},
   "source": [
    "### Building vocabulary"
   ]
  },
  {
   "cell_type": "code",
   "execution_count": 7,
   "metadata": {},
   "outputs": [],
   "source": [
    "train_words = [w for bigram in train_bigrams for w in bigram]\n",
    "test_words = [w for bigram in test_bigrams for w in bigram]\n"
   ]
  },
  {
   "cell_type": "code",
   "execution_count": 8,
   "metadata": {},
   "outputs": [],
   "source": [
    "vocab = list(set(train_words))\n",
    "vocab_size = len(vocab)\n",
    "word_to_idx = # YOUR CODE GOES HERE\n",
    "word_to_idx[\"<UNK>\"] = vocab_size  # Unknown token\n",
    "idx_to_word = {idx: word for word, idx in word_to_idx.items()}\n",
    "\n",
    "test_vocab_creation(vocab, idx_to_word)"
   ]
  },
  {
   "cell_type": "markdown",
   "metadata": {},
   "source": [
    "### Convert Words to Indices"
   ]
  },
  {
   "cell_type": "code",
   "execution_count": 9,
   "metadata": {},
   "outputs": [],
   "source": [
    "train_sequences = [word_to_idx.get(word, word_to_idx[\"<UNK>\"]) for word in train_words]\n",
    "test_sequences = [word_to_idx.get(word, word_to_idx[\"<UNK>\"]) for word in test_words]\n",
    "test_sequences(train_sequences, test_sequences)"
   ]
  },
  {
   "cell_type": "markdown",
   "metadata": {},
   "source": [
    "## Create input-output sequences"
   ]
  },
  {
   "cell_type": "code",
   "execution_count": 10,
   "metadata": {},
   "outputs": [],
   "source": [
    "X_train, y_train = create_input_output(train_sequences)\n",
    "X_test, y_test = create_input_output(test_sequences)"
   ]
  },
  {
   "cell_type": "markdown",
   "metadata": {},
   "source": [
    "## Model building, compiling, and training"
   ]
  },
  {
   "cell_type": "code",
   "execution_count": null,
   "metadata": {},
   "outputs": [],
   "source": [
    "model = build_LSTM_model(vocab_size, X_train.shape[1])\n",
    "test_model_building(model)\n",
    "compile_LSTM_model(model)\n",
    "with tf.device('/GPU:0'):\n",
    "    train_LSTM_model(model, X_train, y_train, X_test, y_test)"
   ]
  },
  {
   "cell_type": "markdown",
   "metadata": {},
   "source": [
    "## Calculate log probability sum and perplexity"
   ]
  },
  {
   "attachments": {
    "image.png": {
     "image/png": "[encoded data removed]"
    }
   },
   "cell_type": "markdown",
   "metadata": {},
   "source": [
    "Here’s the content formatted for a markdown cell in your Jupyter Notebook:\n",
    "\n",
    "---\n",
    "\n",
    "## **Connection to Log Probability Sum**\n",
    "\n",
    "Perplexity is directly derived from the **log probability sum** of the predicted probabilities for a sequence of words. It is a measure of how well a language model predicts a given sequence.\n",
    "\n",
    "![image.png](attachment:image.png)\n",
    "\n",
    "### **Explanation**\n",
    "1. **Log Probability Sum**:\n",
    "   - The log of the predicted probability \\(P(w_i)\\) for each word captures the model's confidence in its prediction.\n",
    "   - Summing these log probabilities gives an aggregate measure of the model's performance over the entire sequence.\n",
    "\n",
    "2. **Averaging and Exponentiating**:\n",
    "   - The negative average of the log probabilities normalizes the sum by the sequence length, making it independent of sequence size.\n",
    "   - Exponentiating converts the log scale into a human-readable metric, where **lower perplexity** indicates better model performance.\n",
    "\n",
    "### **Intuition**\n",
    "- If the model assigns **high probabilities** to the correct words in the sequence, the log probability sum is less negative, resulting in a **lower perplexity**.\n",
    "- Conversely, a **high perplexity** indicates the model struggles to predict the sequence accurately, reflecting higher uncertainty or \"perplexity\" about the text."
   ]
  },
  {
   "cell_type": "code",
   "execution_count": null,
   "metadata": {},
   "outputs": [],
   "source": [
    "def calculate_perplexity(model, X, y):\n",
    "    \"\"\"Calculate perplexity of the model.\"\"\"\n",
    "    with tf.device('/GPU:0'):\n",
    "        predictions = # YOUR CODE GOES HERE\n",
    "        log_prob_sum = 0\n",
    "        N = len(y)\n",
    "        \n",
    "        for i in range(N):\n",
    "            prob = predictions[i, y[i]]\n",
    "            log_prob_sum += # YOUR CODE GOES HERE\n",
    "        \n",
    "        perplexity = # YOUR CODE GOES HERE\n",
    "        return perplexity\n",
    "\n",
    "perplexity = calculate_perplexity(model, X_test, y_test)\n",
    "test_perplexity(perplexity)\n",
    "print(f'Perplexity: {perplexity}')"
   ]
  }
 ],
 "metadata": {
  "kernelspec": {
   "display_name": "base",
   "language": "python",
   "name": "python3"
  },
  "language_info": {
   "codemirror_mode": {
    "name": "ipython",
    "version": 3
   },
   "file_extension": ".py",
   "mimetype": "text/x-python",
   "name": "python",
   "nbconvert_exporter": "python",
   "pygments_lexer": "ipython3",
   "version": "3.10.9"
  }
 },
 "nbformat": 4,
 "nbformat_minor": 2
}
