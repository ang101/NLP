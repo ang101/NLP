{
 "cells": [
  {
   "cell_type": "markdown",
   "metadata": {},
   "source": [
    "# Neural Networks implementation on IRIS data using TensorFlow"
   ]
  },
  {
   "cell_type": "markdown",
   "metadata": {},
   "source": [
    "## Iris Dataset Overview\n",
    "\n",
    "The Iris dataset is one of the most well-known datasets in the field of machine learning and statistics. It was introduced by the British biologist and statistician Ronald A. Fisher in 1936 as part of his work on discriminant analysis. The dataset contains measurements of different parts of iris flowers, and it has been widely used for testing machine learning algorithms.\n",
    "\n",
    "\n",
    "**Dataset Description**:\n",
    "The Iris dataset consists of 150 samples from three species of Iris flowers:\n",
    "\n",
    "- Setosa (class 0)\n",
    "- Versicolor (class 1)\n",
    "- Virginica (class 2)\n",
    "\n",
    "For each species, there are 50 samples, and each sample has four features:\n",
    "- Sepal Length (cm)\n",
    "- Sepal Width (cm)\n",
    "- Petal Length (cm)\n",
    "- Petal Width (cm)\n",
    "These four features are numeric, and the target variable is the species of the Iris flower, which is categorical (i.e., it has three distinct classes).\n",
    "\n",
    "**Key Points of the Iris Dataset**:\n",
    "- Number of Instances: 150\n",
    "- Number of Features: 4 continuous features (sepal length, sepal width, petal length, petal width)\n",
    "- Number of Classes: 3 (Setosa, Versicolor, Virginica)\n",
    "- Attribute Types: All attributes are numeric (continuous).\n",
    "\n",
    "**Goal**:\n",
    "The main objective of using the Iris dataset in machine learning is to classify flowers into one of the three species based on the measurements of the sepal and petal dimensions.\n",
    "\n"
   ]
  },
  {
   "cell_type": "markdown",
   "metadata": {},
   "source": [
    "## Importing libraries"
   ]
  },
  {
   "cell_type": "code",
   "execution_count": 2,
   "metadata": {},
   "outputs": [],
   "source": [
    "import pandas as pd\n",
    "import numpy as np\n",
    "from sklearn.model_selection import train_test_split\n",
    "from sklearn.preprocessing import LabelEncoder\n",
    "import tensorflow as tf\n",
    "import matplotlib.pyplot as plt"
   ]
  },
  {
   "cell_type": "markdown",
   "metadata": {},
   "source": [
    "## Loading the dataset"
   ]
  },
  {
   "cell_type": "code",
   "execution_count": 3,
   "metadata": {},
   "outputs": [
    {
     "name": "stdout",
     "output_type": "stream",
     "text": [
      "   sepal length (cm)  sepal width (cm)  petal length (cm)  petal width (cm)  \\\n",
      "0                5.1               3.5                1.4               0.2   \n",
      "1                4.9               3.0                1.4               0.2   \n",
      "2                4.7               3.2                1.3               0.2   \n",
      "3                4.6               3.1                1.5               0.2   \n",
      "4                5.0               3.6                1.4               0.2   \n",
      "\n",
      "   species  \n",
      "0        0  \n",
      "1        0  \n",
      "2        0  \n",
      "3        0  \n",
      "4        0  \n"
     ]
    }
   ],
   "source": [
    "# Load Iris dataset\n",
    "from sklearn.datasets import load_iris\n",
    "data = load_iris()\n",
    "\n",
    "# Convert to DataFrame for easier manipulation\n",
    "df = pd.DataFrame(data=data.data, columns=data.feature_names)\n",
    "df['species'] = data.target\n",
    "\n",
    "# Display first few rows\n",
    "print(df.head())"
   ]
  },
  {
   "cell_type": "markdown",
   "metadata": {},
   "source": [
    "## Pre-processing Data\n",
    "\n",
    "### Split the dataset into training and testing sets\n",
    "\n",
    "### Normalize the feature columns: \n",
    "\n",
    " involves adjusting the range of numerical features so that they are on a similar scale. This is especially important when features have different units of measurement, as is the case in the Iris dataset (e.g., petal length in cm vs. petal width in cm).\n",
    "\n",
    "### One-hot encode the target variable:\n",
    "\n",
    "The target variable in the Iris dataset is categorical, representing three species of Iris flowers: Setosa, Versicolor, and Virginica. Machine learning algorithms typically require numerical inputs, so categorical variables need to be converted to numerical format.\n",
    "\n",
    "One-Hot Encoding is a popular method for encoding categorical variables. It involves converting each class label into a binary vector, where each class is represented by a column. For a three-class target like the Iris dataset, one-hot encoding creates three binary columns corresponding to the three species.\n",
    "Example:\n",
    "\n",
    "Setosa: [1, 0, 0]\n",
    "\n",
    "Versicolor: [0, 1, 0]\n",
    "\n",
    "Virginica: [0, 0, 1]\n",
    "\n",
    "**Why is one-hot encoding important?**\n",
    "Machine Learning Compatibility: Most machine learning models (e.g., neural networks, logistic regression) expect numerical input, and categorical data must be transformed into a suitable format. One-hot encoding creates binary vectors that can be directly fed into these models.\n",
    "Avoiding Ordinal Relationship Assumptions: Encoding categorical variables as integers (e.g., 0, 1, 2) could imply an ordinal relationship (i.e., the model might mistakenly interpret \"Versicolor\" as being closer to \"Setosa\" than \"Virginica\"). One-hot encoding avoids this by treating the categories as independent."
   ]
  },
  {
   "cell_type": "code",
   "execution_count": 4,
   "metadata": {},
   "outputs": [],
   "source": [
    "# Features and target\n",
    "X = df.drop('species', axis=1)\n",
    "y = df['species']\n",
    "\n",
    "# Split into training and testing sets (80% train, 20% test)\n",
    "X_train, X_test, y_train, y_test = train_test_split(X, y, test_size=0.2, random_state=42)\n",
    "\n",
    "# Normalize the feature columns\n",
    "X_train = (X_train - X_train.mean()) / X_train.std()\n",
    "X_test = (X_test - X_test.mean()) / X_test.std()\n",
    "\n",
    "# One-hot encode the target variable\n",
    "encoder = LabelEncoder()\n",
    "y_train = encoder.fit_transform(y_train)\n",
    "y_test = encoder.transform(y_test)\n",
    "\n",
    "# Convert target variable to one-hot encoded vectors\n",
    "y_train_one_hot = tf.keras.utils.to_categorical(y_train, num_classes=3)\n",
    "y_test_one_hot = tf.keras.utils.to_categorical(y_test, num_classes=3)"
   ]
  },
  {
   "cell_type": "markdown",
   "metadata": {},
   "source": [
    "## Ways to Build Neural Networks in Keras: Sequential API vs Functional API\n",
    "\n",
    "In Keras, there are two main ways to build neural networks: the Sequential API and the Functional API.\n",
    "\n",
    "**Sequential API:** This is the simplest way to build a model. It works well for models where layers are stacked one after another in a linear fashion. Each layer has a single input and output, making it ideal for basic feedforward neural networks.\n",
    "\n",
    "**Functional API:** This provides more flexibility, allowing the creation of models with complex architectures, such as models with multiple inputs, outputs, or shared layers. It supports non-linear connections, making it suitable for advanced models like multi-input systems or those with skip connections.\n",
    "\n",
    "**When to use:**\n",
    "\n",
    "Use the Sequential API for simple, linear models.\n",
    "Use the Functional API for more complex models with branching or multiple inputs/outputs.\n"
   ]
  },
  {
   "cell_type": "markdown",
   "metadata": {},
   "source": [
    "## Model building\n",
    "We'll use sequential API tp build a feed-forward network here."
   ]
  },
  {
   "cell_type": "markdown",
   "metadata": {},
   "source": [
    "In this code, we are defining a simple feed-forward neural network for multi-class classification using TensorFlow and Keras. The network consists of three layers: an input layer, a hidden layer, and an output layer. Let's break down each component:\n",
    "\n",
    "1) Input Layer\n",
    "    - input_shape=(X_train.shape[1],): This parameter specifies the shape of the input data. It is set to the number of features (columns) in the training dataset X_train. The shape is (X_train.shape[1],), where X_train.shape[1] gives the number of features (e.g., 4 for the Iris dataset, since it has four features: sepal length, sepal width, petal length, and petal width).\n",
    "    - This layer does not contain any weights or activations—it just takes in the data and passes it to the next layer.\n",
    "\n",
    "2) Hidden Layer\n",
    "    - The hidden layer performs computations and helps the model learn the relationship between the features and the target variable.\n",
    "    - 10: This specifies the number of neurons in the hidden layer. It determines how many outputs this layer will have. In this case, there are 10 neurons, which is a hyperparameter you can tune.\n",
    "    - activation='relu': This is the ReLU (Rectified Linear Unit) activation function. ReLU is widely used because it introduces non-linearity to the model and helps it learn complex patterns. The ReLU function outputs the input directly if it is positive; otherwise, it outputs zero. There are other functions like tanh, sigmoid etc., \n",
    "\n",
    "3) Output Layer\n",
    "    - The output layer produces the final predictions, mapping the hidden layer outputs to the class probabilities.\n",
    "    - 3: This specifies the number of neurons in the output layer. In this case, there are 3 neurons corresponding to the 3 classes in the Iris dataset (Setosa, Versicolor, Virginica).\n",
    "    - activation='softmax': The softmax activation function is used for multi-class classification problems. It converts the raw output scores (logits) into probabilities that sum to 1. Each output neuron corresponds to the probability of the input belonging to a particular class. The class with the highest probability is the model's prediction.\n",
    "\n",
    "**Summary of Architecture:**\n",
    "\n",
    "Input Layer: Takes in a vector with X_train.shape[1] features (4 for the Iris dataset).\n",
    "\n",
    "Hidden Layer: 10 neurons, with ReLU activation, responsible for learning non-linear relationships.\n",
    "\n",
    "Output Layer: 3 neurons, one for each class (Setosa, Versicolor, Virginica), using the softmax function to output class probabilities."
   ]
  },
  {
   "cell_type": "code",
   "execution_count": 5,
   "metadata": {},
   "outputs": [],
   "source": [
    "# Define the model\n",
    "model = tf.keras.Sequential([\n",
    "    tf.keras.layers.InputLayer(input_shape=(X_train.shape[1],)),  # Input layer with shape matching number of features\n",
    "    tf.keras.layers.Dense(10, activation='relu'),  # Hidden layer with 10 neurons and ReLU activation\n",
    "    tf.keras.layers.Dense(3, activation='softmax')  # Output layer with 3 neurons (one for each class)\n",
    "])\n"
   ]
  },
  {
   "cell_type": "markdown",
   "metadata": {},
   "source": [
    "## Compile model\n",
    "\n",
    "**Optimizer:**\n",
    "    optimizer='adam': The Adam optimizer is a popular gradient-based optimization algorithm. It combines the advantages of both AdaGrad and RMSProp, adapting the learning rate for each parameter based on estimates of the first and second moments of the gradients. It generally works well for a wide range of problems and is easy to use without needing much tuning.\n",
    "\n",
    "**Loss Function:**\n",
    "    loss='categorical_crossentropy': This is the loss function used for multi-class classification. Categorical cross-entropy measures the difference between the true label distribution and the predicted label distribution. It is particularly useful when the target variable consists of one-hot encoded vectors.\n",
    "\n",
    "**Metrics:**\n",
    "    metrics=['accuracy']: The accuracy metric is used to evaluate the model’s performance. It computes the fraction of correctly predicted instances.\n",
    "\n",
    "**model.summary():**\n",
    "This function will output a summary of the model architecture, including the number of parameters in each layer, the total number of parameters in the model, and the shape of the output at each layer. This is useful for understanding how the model is structured and for verifying the number of trainable parameters."
   ]
  },
  {
   "cell_type": "code",
   "execution_count": 6,
   "metadata": {},
   "outputs": [
    {
     "name": "stdout",
     "output_type": "stream",
     "text": [
      "Model: \"sequential\"\n",
      "_________________________________________________________________\n",
      " Layer (type)                Output Shape              Param #   \n",
      "=================================================================\n",
      " dense (Dense)               (None, 10)                50        \n",
      "                                                                 \n",
      " dense_1 (Dense)             (None, 3)                 33        \n",
      "                                                                 \n",
      "=================================================================\n",
      "Total params: 83 (332.00 Byte)\n",
      "Trainable params: 83 (332.00 Byte)\n",
      "Non-trainable params: 0 (0.00 Byte)\n",
      "_________________________________________________________________\n"
     ]
    }
   ],
   "source": [
    "\n",
    "# Compile the model\n",
    "model.compile(optimizer='adam',  # Adam optimizer\n",
    "              loss='categorical_crossentropy',  # Categorical cross-entropy for multi-class classification\n",
    "              metrics=['accuracy'])  # Accuracy metric to evaluate performance\n",
    "\n",
    "# Model summary\n",
    "model.summary()"
   ]
  },
  {
   "cell_type": "markdown",
   "metadata": {},
   "source": [
    "## Training the model"
   ]
  },
  {
   "cell_type": "code",
   "execution_count": 7,
   "metadata": {},
   "outputs": [
    {
     "name": "stdout",
     "output_type": "stream",
     "text": [
      "Epoch 1/50\n",
      "15/15 [==============================] - 0s 6ms/step - loss: 1.1423 - accuracy: 0.1083 - val_loss: 1.1047 - val_accuracy: 0.1000\n",
      "Epoch 2/50\n",
      "15/15 [==============================] - 0s 1ms/step - loss: 1.0804 - accuracy: 0.1500 - val_loss: 1.0462 - val_accuracy: 0.2000\n",
      "Epoch 3/50\n",
      "15/15 [==============================] - 0s 1ms/step - loss: 1.0261 - accuracy: 0.3083 - val_loss: 0.9906 - val_accuracy: 0.5000\n",
      "Epoch 4/50\n",
      "15/15 [==============================] - 0s 1ms/step - loss: 0.9761 - accuracy: 0.4917 - val_loss: 0.9381 - val_accuracy: 0.6667\n",
      "Epoch 5/50\n",
      "15/15 [==============================] - 0s 1ms/step - loss: 0.9283 - accuracy: 0.6583 - val_loss: 0.8896 - val_accuracy: 0.8333\n",
      "Epoch 6/50\n",
      "15/15 [==============================] - 0s 1ms/step - loss: 0.8815 - accuracy: 0.7750 - val_loss: 0.8423 - val_accuracy: 0.8667\n",
      "Epoch 7/50\n",
      "15/15 [==============================] - 0s 1ms/step - loss: 0.8364 - accuracy: 0.8250 - val_loss: 0.7970 - val_accuracy: 0.8667\n",
      "Epoch 8/50\n",
      "15/15 [==============================] - 0s 1ms/step - loss: 0.7922 - accuracy: 0.8500 - val_loss: 0.7527 - val_accuracy: 0.9333\n",
      "Epoch 9/50\n",
      "15/15 [==============================] - 0s 1ms/step - loss: 0.7502 - accuracy: 0.8667 - val_loss: 0.7079 - val_accuracy: 0.9333\n",
      "Epoch 10/50\n",
      "15/15 [==============================] - 0s 1ms/step - loss: 0.7087 - accuracy: 0.8750 - val_loss: 0.6668 - val_accuracy: 0.9333\n",
      "Epoch 11/50\n",
      "15/15 [==============================] - 0s 1ms/step - loss: 0.6693 - accuracy: 0.8750 - val_loss: 0.6277 - val_accuracy: 0.9333\n",
      "Epoch 12/50\n",
      "15/15 [==============================] - 0s 1ms/step - loss: 0.6326 - accuracy: 0.8750 - val_loss: 0.5907 - val_accuracy: 0.9667\n",
      "Epoch 13/50\n",
      "15/15 [==============================] - 0s 1ms/step - loss: 0.5977 - accuracy: 0.8667 - val_loss: 0.5534 - val_accuracy: 0.9667\n",
      "Epoch 14/50\n",
      "15/15 [==============================] - 0s 1ms/step - loss: 0.5650 - accuracy: 0.8500 - val_loss: 0.5188 - val_accuracy: 0.9667\n",
      "Epoch 15/50\n",
      "15/15 [==============================] - 0s 2ms/step - loss: 0.5352 - accuracy: 0.8333 - val_loss: 0.4887 - val_accuracy: 0.9667\n",
      "Epoch 16/50\n",
      "15/15 [==============================] - 0s 1ms/step - loss: 0.5082 - accuracy: 0.8333 - val_loss: 0.4621 - val_accuracy: 0.9667\n",
      "Epoch 17/50\n",
      "15/15 [==============================] - 0s 1ms/step - loss: 0.4849 - accuracy: 0.8333 - val_loss: 0.4352 - val_accuracy: 0.9667\n",
      "Epoch 18/50\n",
      "15/15 [==============================] - 0s 1ms/step - loss: 0.4630 - accuracy: 0.8333 - val_loss: 0.4127 - val_accuracy: 0.9667\n",
      "Epoch 19/50\n",
      "15/15 [==============================] - 0s 1ms/step - loss: 0.4432 - accuracy: 0.8333 - val_loss: 0.3942 - val_accuracy: 0.9667\n",
      "Epoch 20/50\n",
      "15/15 [==============================] - 0s 1ms/step - loss: 0.4266 - accuracy: 0.8333 - val_loss: 0.3766 - val_accuracy: 0.9667\n",
      "Epoch 21/50\n",
      "15/15 [==============================] - 0s 1ms/step - loss: 0.4111 - accuracy: 0.8333 - val_loss: 0.3603 - val_accuracy: 0.9667\n",
      "Epoch 22/50\n",
      "15/15 [==============================] - 0s 1ms/step - loss: 0.3978 - accuracy: 0.8417 - val_loss: 0.3455 - val_accuracy: 0.9667\n",
      "Epoch 23/50\n",
      "15/15 [==============================] - 0s 1ms/step - loss: 0.3851 - accuracy: 0.8417 - val_loss: 0.3326 - val_accuracy: 0.9667\n",
      "Epoch 24/50\n",
      "15/15 [==============================] - 0s 1ms/step - loss: 0.3739 - accuracy: 0.8500 - val_loss: 0.3219 - val_accuracy: 0.9667\n",
      "Epoch 25/50\n",
      "15/15 [==============================] - 0s 1ms/step - loss: 0.3636 - accuracy: 0.8500 - val_loss: 0.3116 - val_accuracy: 0.9667\n",
      "Epoch 26/50\n",
      "15/15 [==============================] - 0s 1ms/step - loss: 0.3543 - accuracy: 0.8500 - val_loss: 0.3009 - val_accuracy: 0.9667\n",
      "Epoch 27/50\n",
      "15/15 [==============================] - 0s 1ms/step - loss: 0.3459 - accuracy: 0.8500 - val_loss: 0.2914 - val_accuracy: 0.9667\n",
      "Epoch 28/50\n",
      "15/15 [==============================] - 0s 1ms/step - loss: 0.3378 - accuracy: 0.8500 - val_loss: 0.2827 - val_accuracy: 0.9667\n",
      "Epoch 29/50\n",
      "15/15 [==============================] - 0s 1ms/step - loss: 0.3302 - accuracy: 0.8583 - val_loss: 0.2758 - val_accuracy: 0.9667\n",
      "Epoch 30/50\n",
      "15/15 [==============================] - 0s 1ms/step - loss: 0.3236 - accuracy: 0.8750 - val_loss: 0.2685 - val_accuracy: 0.9667\n",
      "Epoch 31/50\n",
      "15/15 [==============================] - 0s 1ms/step - loss: 0.3179 - accuracy: 0.8667 - val_loss: 0.2603 - val_accuracy: 0.9667\n",
      "Epoch 32/50\n",
      "15/15 [==============================] - 0s 1ms/step - loss: 0.3107 - accuracy: 0.8750 - val_loss: 0.2543 - val_accuracy: 0.9667\n",
      "Epoch 33/50\n",
      "15/15 [==============================] - 0s 1ms/step - loss: 0.3052 - accuracy: 0.8833 - val_loss: 0.2490 - val_accuracy: 0.9667\n",
      "Epoch 34/50\n",
      "15/15 [==============================] - 0s 1ms/step - loss: 0.2994 - accuracy: 0.8917 - val_loss: 0.2424 - val_accuracy: 0.9667\n",
      "Epoch 35/50\n",
      "15/15 [==============================] - 0s 1ms/step - loss: 0.2945 - accuracy: 0.8833 - val_loss: 0.2362 - val_accuracy: 0.9667\n",
      "Epoch 36/50\n",
      "15/15 [==============================] - 0s 3ms/step - loss: 0.2903 - accuracy: 0.9000 - val_loss: 0.2323 - val_accuracy: 0.9667\n",
      "Epoch 37/50\n",
      "15/15 [==============================] - 0s 2ms/step - loss: 0.2845 - accuracy: 0.9000 - val_loss: 0.2271 - val_accuracy: 0.9667\n",
      "Epoch 38/50\n",
      "15/15 [==============================] - 0s 1ms/step - loss: 0.2799 - accuracy: 0.9000 - val_loss: 0.2220 - val_accuracy: 0.9667\n",
      "Epoch 39/50\n",
      "15/15 [==============================] - 0s 1ms/step - loss: 0.2755 - accuracy: 0.9000 - val_loss: 0.2165 - val_accuracy: 0.9667\n",
      "Epoch 40/50\n",
      "15/15 [==============================] - 0s 1ms/step - loss: 0.2711 - accuracy: 0.9000 - val_loss: 0.2122 - val_accuracy: 0.9667\n",
      "Epoch 41/50\n",
      "15/15 [==============================] - 0s 1ms/step - loss: 0.2671 - accuracy: 0.9000 - val_loss: 0.2080 - val_accuracy: 0.9667\n",
      "Epoch 42/50\n",
      "15/15 [==============================] - 0s 1ms/step - loss: 0.2629 - accuracy: 0.9000 - val_loss: 0.2042 - val_accuracy: 0.9667\n",
      "Epoch 43/50\n",
      "15/15 [==============================] - 0s 1ms/step - loss: 0.2595 - accuracy: 0.9083 - val_loss: 0.2014 - val_accuracy: 0.9667\n",
      "Epoch 44/50\n",
      "15/15 [==============================] - 0s 1ms/step - loss: 0.2556 - accuracy: 0.9083 - val_loss: 0.1960 - val_accuracy: 0.9667\n",
      "Epoch 45/50\n",
      "15/15 [==============================] - 0s 1ms/step - loss: 0.2515 - accuracy: 0.9167 - val_loss: 0.1928 - val_accuracy: 0.9667\n",
      "Epoch 46/50\n",
      "15/15 [==============================] - 0s 1ms/step - loss: 0.2479 - accuracy: 0.9083 - val_loss: 0.1886 - val_accuracy: 0.9667\n",
      "Epoch 47/50\n",
      "15/15 [==============================] - 0s 1ms/step - loss: 0.2448 - accuracy: 0.9167 - val_loss: 0.1861 - val_accuracy: 0.9667\n",
      "Epoch 48/50\n",
      "15/15 [==============================] - 0s 1ms/step - loss: 0.2410 - accuracy: 0.9167 - val_loss: 0.1823 - val_accuracy: 0.9667\n",
      "Epoch 49/50\n",
      "15/15 [==============================] - 0s 1ms/step - loss: 0.2379 - accuracy: 0.9167 - val_loss: 0.1789 - val_accuracy: 0.9667\n",
      "Epoch 50/50\n",
      "15/15 [==============================] - 0s 1ms/step - loss: 0.2346 - accuracy: 0.9167 - val_loss: 0.1752 - val_accuracy: 0.9667\n"
     ]
    },
    {
     "data": {
      "image/png": "[encoded data removed]",
      "text/plain": [
       "<Figure size 640x480 with 1 Axes>"
      ]
     },
     "metadata": {},
     "output_type": "display_data"
    }
   ],
   "source": [
    "# Train the model\n",
    "history = model.fit(X_train, y_train_one_hot, epochs=50, batch_size=8, validation_data=(X_test, y_test_one_hot))\n",
    "\n",
    "# Plot training history\n",
    "plt.plot(history.history['loss'], label='Training Loss')\n",
    "plt.plot(history.history['val_loss'], label='Validation Loss')\n",
    "plt.plot(history.history['accuracy'], label='Training Accuracy')\n",
    "plt.plot(history.history['val_accuracy'], label='Validation Accuracy')\n",
    "plt.title('Training and Validation Loss/Accuracy')\n",
    "plt.xlabel('Epochs')\n",
    "plt.ylabel('Loss/Accuracy')\n",
    "plt.legend()\n",
    "plt.show()\n"
   ]
  },
  {
   "cell_type": "markdown",
   "metadata": {},
   "source": [
    "The graph shows a machine learning model with strong convergence over 50 epochs. Training and validation losses decrease steadily from 0.95 to 0.27 and 0.23, respectively. Both training and validation accuracy improve significantly, reaching over 0.90, with validation accuracy slightly outperforming training. The consistent decrease in loss and increase in accuracy suggests good generalization and model tuning."
   ]
  },
  {
   "cell_type": "markdown",
   "metadata": {},
   "source": [
    "## Model Evaluation"
   ]
  },
  {
   "cell_type": "code",
   "execution_count": 9,
   "metadata": {},
   "outputs": [
    {
     "name": "stdout",
     "output_type": "stream",
     "text": [
      "1/1 [==============================] - 0s 23ms/step - loss: 0.1752 - accuracy: 0.9667\n",
      "Test Loss: 0.1752413809299469\n",
      "Test Accuracy: 0.9666666388511658\n"
     ]
    }
   ],
   "source": [
    "# Evaluate the model on the test set\n",
    "test_loss, test_acc = model.evaluate(X_test, y_test_one_hot)\n",
    "print(f\"Test Loss: {test_loss}\")\n",
    "print(f\"Test Accuracy: {test_acc}\")\n"
   ]
  },
  {
   "cell_type": "markdown",
   "metadata": {},
   "source": [
    "## Making Predictions"
   ]
  },
  {
   "cell_type": "code",
   "execution_count": 10,
   "metadata": {},
   "outputs": [
    {
     "name": "stdout",
     "output_type": "stream",
     "text": [
      "1/1 [==============================] - 0s 54ms/step\n",
      "Predicted classes: [1 0 2 1 1 0 1 2 1 1 2 0 0 0 0 2 2 1 1 2 0 2 0 2 2 2 2 2 0 0]\n",
      "True classes: [1 0 2 1 1 0 1 2 1 1 2 0 0 0 0 1 2 1 1 2 0 2 0 2 2 2 2 2 0 0]\n"
     ]
    }
   ],
   "source": [
    "# Predict on test data\n",
    "predictions = model.predict(X_test)\n",
    "\n",
    "# Convert predictions from one-hot encoding back to class labels\n",
    "predicted_classes = np.argmax(predictions, axis=1)\n",
    "\n",
    "# Convert true labels from one-hot encoding to class labels\n",
    "true_classes = np.argmax(y_test_one_hot, axis=1)\n",
    "\n",
    "print(\"Predicted classes:\", predicted_classes)\n",
    "print(\"True classes:\", true_classes)\n"
   ]
  }
 ],
 "metadata": {
  "kernelspec": {
   "display_name": "base",
   "language": "python",
   "name": "python3"
  },
  "language_info": {
   "codemirror_mode": {
    "name": "ipython",
    "version": 3
   },
   "file_extension": ".py",
   "mimetype": "text/x-python",
   "name": "python",
   "nbconvert_exporter": "python",
   "pygments_lexer": "ipython3",
   "version": "3.10.9"
  }
 },
 "nbformat": 4,
 "nbformat_minor": 2
}
