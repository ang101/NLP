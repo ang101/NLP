{
 "cells": [
  {
   "cell_type": "markdown",
   "metadata": {
    "colab_type": "text",
    "id": "view-in-github"
   },
   "source": [
    "<a href=\"https://colab.research.google.com/github/Pakhi27/Bi-Directional-LSTM-RNN-Fake-News-Classifier/blob/main/FakeNewsClassifier_LSTM.ipynb\" target=\"_parent\"><img src=\"https://colab.research.google.com/assets/colab-badge.svg\" alt=\"Open In Colab\"/></a>"
   ]
  },
  {
   "cell_type": "code",
   "execution_count": 1,
   "metadata": {
    "id": "7sqoc2NOmpwp"
   },
   "outputs": [],
   "source": [
    "import pandas as pd"
   ]
  },
  {
   "cell_type": "code",
   "execution_count": 6,
   "metadata": {
    "id": "gFIZgq97nxRH"
   },
   "outputs": [],
   "source": [
    "def handle_bad_line(line):\n",
    "    print(f\"Bad line: {line}\")\n",
    "    return None  # or return the line modified to fit the expected format\n",
    "\n",
    "df = pd.read_csv('FNC.csv', delimiter=',', encoding='utf-8', on_bad_lines=handle_bad_line, engine='python')\n",
    "\n"
   ]
  },
  {
   "cell_type": "code",
   "execution_count": null,
   "metadata": {
    "colab": {
     "base_uri": "https://localhost:8080/",
     "height": 206
    },
    "id": "szmSsrivpd1u",
    "outputId": "aa551db4-939f-4a14-c1d0-896d296f8bb9"
   },
   "outputs": [],
   "source": [
    "df.head()"
   ]
  },
  {
   "cell_type": "code",
   "execution_count": null,
   "metadata": {
    "colab": {
     "base_uri": "https://localhost:8080/"
    },
    "id": "UZyostgHpj7u",
    "outputId": "f91fb919-ef7d-4022-dc41-8cdd869db72e"
   },
   "outputs": [],
   "source": [
    "df.shape"
   ]
  },
  {
   "cell_type": "code",
   "execution_count": null,
   "metadata": {
    "colab": {
     "base_uri": "https://localhost:8080/",
     "height": 206
    },
    "id": "JIt1mH81qNK2",
    "outputId": "782aea60-5ee0-48a6-9dd3-ac0032519502"
   },
   "outputs": [],
   "source": [
    "df.head()"
   ]
  },
  {
   "cell_type": "code",
   "execution_count": null,
   "metadata": {
    "colab": {
     "base_uri": "https://localhost:8080/",
     "height": 241
    },
    "id": "NjtwqLNOqOel",
    "outputId": "6b243820-b4ad-4c75-cab3-fae46693f6f7"
   },
   "outputs": [],
   "source": [
    "df.isnull().sum()"
   ]
  },
  {
   "cell_type": "code",
   "execution_count": 11,
   "metadata": {
    "id": "w0WvyjcgqQ1n"
   },
   "outputs": [],
   "source": [
    "###Drop Nan Values\n",
    "df=df.dropna()"
   ]
  },
  {
   "cell_type": "code",
   "execution_count": null,
   "metadata": {
    "colab": {
     "base_uri": "https://localhost:8080/",
     "height": 241
    },
    "id": "s--2QTj3qwJa",
    "outputId": "f68ba3a1-c422-4960-cd6c-6c0cff794644"
   },
   "outputs": [],
   "source": [
    "df.isnull().sum()"
   ]
  },
  {
   "cell_type": "code",
   "execution_count": null,
   "metadata": {
    "colab": {
     "base_uri": "https://localhost:8080/",
     "height": 206
    },
    "id": "YGlrqCSXqTAz",
    "outputId": "f6a1057a-f1ee-4a65-e7f9-f75c7074b232"
   },
   "outputs": [],
   "source": [
    "df.head()"
   ]
  },
  {
   "cell_type": "code",
   "execution_count": 14,
   "metadata": {
    "id": "rvEpytuNqUSr"
   },
   "outputs": [],
   "source": [
    "## Get the Independent Features\n",
    "\n",
    "X=df.drop('label',axis=1)"
   ]
  },
  {
   "cell_type": "code",
   "execution_count": 15,
   "metadata": {
    "id": "XwRX1uFpqWLi"
   },
   "outputs": [],
   "source": [
    "## Get the Dependent features\n",
    "y=df['label']"
   ]
  },
  {
   "cell_type": "code",
   "execution_count": null,
   "metadata": {
    "colab": {
     "base_uri": "https://localhost:8080/"
    },
    "id": "6Q9vSR70qXYN",
    "outputId": "81a8578e-6a86-48da-95d3-a3d2b49fa67a"
   },
   "outputs": [],
   "source": [
    "X.shape"
   ]
  },
  {
   "cell_type": "code",
   "execution_count": null,
   "metadata": {
    "colab": {
     "base_uri": "https://localhost:8080/"
    },
    "id": "29339DwWqYmt",
    "outputId": "339fadfe-b5fd-432f-ae83-35fb7f5acaaa"
   },
   "outputs": [],
   "source": [
    "y.shape"
   ]
  },
  {
   "cell_type": "code",
   "execution_count": null,
   "metadata": {
    "id": "8xNj1oKNqaUD"
   },
   "outputs": [],
   "source": [
    "import tensorflow as tf"
   ]
  },
  {
   "cell_type": "code",
   "execution_count": null,
   "metadata": {
    "colab": {
     "base_uri": "https://localhost:8080/",
     "height": 35
    },
    "id": "-58h6QfYq5wb",
    "outputId": "251df1ba-abe7-4873-f7a8-28f473e3b340"
   },
   "outputs": [],
   "source": [
    "tf.__version__"
   ]
  },
  {
   "cell_type": "code",
   "execution_count": 20,
   "metadata": {
    "id": "1QLWLdFBq7Hn"
   },
   "outputs": [],
   "source": [
    "from tensorflow.keras.layers import Embedding# word 2 vec\n",
    "from tensorflow.keras.preprocessing.sequence import pad_sequences# pre-padding and post padding\n",
    "from tensorflow.keras.models import Sequential\n",
    "from tensorflow.keras.preprocessing.text import one_hot\n",
    "from tensorflow.keras.layers import LSTM\n",
    "from tensorflow.keras.layers import Dense"
   ]
  },
  {
   "cell_type": "code",
   "execution_count": 21,
   "metadata": {
    "id": "ZiZfXDIeq9DF"
   },
   "outputs": [],
   "source": [
    "### Vocabulary size\n",
    "voc_size=5000"
   ]
  },
  {
   "cell_type": "code",
   "execution_count": 22,
   "metadata": {
    "id": "Vh-CpWuDq__T"
   },
   "outputs": [],
   "source": [
    "# One Hot representation"
   ]
  },
  {
   "cell_type": "code",
   "execution_count": 23,
   "metadata": {
    "id": "BcGsdzqgrHo6"
   },
   "outputs": [],
   "source": [
    "messages=X.copy()"
   ]
  },
  {
   "cell_type": "code",
   "execution_count": null,
   "metadata": {
    "colab": {
     "base_uri": "https://localhost:8080/",
     "height": 35
    },
    "id": "plUhwAV4rJCd",
    "outputId": "c76dd0c1-1f62-45f9-a8a3-8ae84dc28ed6"
   },
   "outputs": [],
   "source": [
    "messages['title'][1]"
   ]
  },
  {
   "cell_type": "code",
   "execution_count": null,
   "metadata": {
    "colab": {
     "base_uri": "https://localhost:8080/",
     "height": 423
    },
    "id": "j2lk3XiTrKPP",
    "outputId": "986ad9c4-5504-4026-d3e3-b9b694e33bf4"
   },
   "outputs": [],
   "source": [
    "messages"
   ]
  },
  {
   "cell_type": "code",
   "execution_count": 26,
   "metadata": {
    "id": "m9ChAqF3rM4M"
   },
   "outputs": [],
   "source": [
    "messages.reset_index(inplace=True)"
   ]
  },
  {
   "cell_type": "code",
   "execution_count": null,
   "metadata": {
    "colab": {
     "base_uri": "https://localhost:8080/",
     "height": 423
    },
    "id": "rBfD6lMUrZvX",
    "outputId": "4ae21d46-6391-4d8c-b3cb-aca680ccd5db"
   },
   "outputs": [],
   "source": [
    "messages"
   ]
  },
  {
   "cell_type": "code",
   "execution_count": 28,
   "metadata": {
    "id": "X7ekBqECrbAC"
   },
   "outputs": [],
   "source": [
    "import nltk\n",
    "import re\n",
    "from nltk.corpus import stopwords"
   ]
  },
  {
   "cell_type": "code",
   "execution_count": null,
   "metadata": {
    "colab": {
     "base_uri": "https://localhost:8080/"
    },
    "id": "vPGi5yE5rexa",
    "outputId": "d8c3892f-8bc8-4369-88bb-5d39ebd470ac"
   },
   "outputs": [],
   "source": [
    "# stopwords\n",
    "nltk.download('stopwords')"
   ]
  },
  {
   "cell_type": "code",
   "execution_count": 30,
   "metadata": {
    "id": "k252B0Murg3e"
   },
   "outputs": [],
   "source": [
    "### Dataset Preprocessing\n",
    "from nltk.stem.porter import PorterStemmer ##stemming purpose\n",
    "ps = PorterStemmer()\n",
    "corpus = []\n",
    "for i in range(0, len(messages)):\n",
    "    # removing special characters and replacing it with blanks\n",
    "    review = re.sub('[^a-zA-Z]', ' ', messages['title'][i])\n",
    "    review = review.lower()\n",
    "    review = review.split()\n",
    "\n",
    "    review = [ps.stem(word) for word in review if not word in stopwords.words('english')]\n",
    "    review = ' '.join(review)\n",
    "    corpus.append(review)"
   ]
  },
  {
   "cell_type": "code",
   "execution_count": null,
   "metadata": {
    "colab": {
     "base_uri": "https://localhost:8080/"
    },
    "id": "o3z1_3Rjrlim",
    "outputId": "00a33d4c-d3ef-415c-d905-55118d3808e9",
    "scrolled": true
   },
   "outputs": [],
   "source": [
    "corpus"
   ]
  },
  {
   "cell_type": "code",
   "execution_count": null,
   "metadata": {
    "colab": {
     "base_uri": "https://localhost:8080/",
     "height": 35
    },
    "id": "FFIWA1CLrqw7",
    "outputId": "79e5cfbe-6846-4866-a15c-90e4e642346b"
   },
   "outputs": [],
   "source": [
    "corpus[1]"
   ]
  },
  {
   "cell_type": "code",
   "execution_count": null,
   "metadata": {
    "colab": {
     "base_uri": "https://localhost:8080/"
    },
    "id": "aIlDuBNDrsSc",
    "outputId": "e694032e-32e0-47c1-c60c-9237be1fff4e",
    "scrolled": true
   },
   "outputs": [],
   "source": [
    "onehot_repr=[one_hot(words,voc_size)for words in corpus]\n",
    "onehot_repr"
   ]
  },
  {
   "cell_type": "code",
   "execution_count": null,
   "metadata": {
    "colab": {
     "base_uri": "https://localhost:8080/",
     "height": 35
    },
    "id": "9g3mKn89rx_n",
    "outputId": "8045008a-2b4f-46a8-95e8-e8d4fef019d1"
   },
   "outputs": [],
   "source": [
    "corpus[1]"
   ]
  },
  {
   "cell_type": "code",
   "execution_count": null,
   "metadata": {
    "colab": {
     "base_uri": "https://localhost:8080/"
    },
    "id": "OmzGQbHZruSs",
    "outputId": "77cf744d-ab95-4100-854d-afc672b9f901"
   },
   "outputs": [],
   "source": [
    "onehot_repr[1]"
   ]
  },
  {
   "cell_type": "code",
   "execution_count": 36,
   "metadata": {
    "id": "iHUms7dtr0BN"
   },
   "outputs": [],
   "source": [
    "# Embedding representation"
   ]
  },
  {
   "cell_type": "code",
   "execution_count": null,
   "metadata": {
    "colab": {
     "base_uri": "https://localhost:8080/"
    },
    "id": "qtIPmz3mslkf",
    "outputId": "f4aba605-f5ef-4082-a74f-00a65e9dcae1"
   },
   "outputs": [],
   "source": [
    "sent_length=20\n",
    "embedded_docs=pad_sequences(onehot_repr,padding='post',maxlen=sent_length)\n",
    "print(embedded_docs)"
   ]
  },
  {
   "cell_type": "code",
   "execution_count": null,
   "metadata": {
    "colab": {
     "base_uri": "https://localhost:8080/"
    },
    "id": "JJm5jGSJsn9r",
    "outputId": "6ce72d48-3092-498f-833e-8f3266a086e9"
   },
   "outputs": [],
   "source": [
    "embedded_docs[1]"
   ]
  },
  {
   "cell_type": "code",
   "execution_count": null,
   "metadata": {
    "colab": {
     "base_uri": "https://localhost:8080/"
    },
    "id": "zzS8KznNsl9g",
    "outputId": "0a46b02c-b18e-455b-d53a-2f0b38cfbc59"
   },
   "outputs": [],
   "source": [
    "embedded_docs[0]"
   ]
  },
  {
   "cell_type": "code",
   "execution_count": null,
   "metadata": {
    "colab": {
     "base_uri": "https://localhost:8080/",
     "height": 277
    },
    "id": "Waj8YYtbsqD4",
    "outputId": "cf8aa60b-ce18-4a9d-e7dd-1285bbee81a6"
   },
   "outputs": [],
   "source": [
    "## Creating model\n",
    "# each and every word is going to get converted into a vector of 40 size\n",
    "embedding_vector_features=40 ##features representation\n",
    "model=Sequential()\n",
    "\n",
    "# embedding layer\n",
    "model.add(Embedding(voc_size,embedding_vector_features,input_length=sent_length))\n",
    "\n",
    "# LSTM-100 NEURONS\n",
    "model.add(LSTM(100))\n",
    "\n",
    "# Sigmoid for binary prediction in model\n",
    "model.add(Dense(1,activation='sigmoid'))\n",
    "\n",
    "model.compile(loss='binary_crossentropy',optimizer='adam',metrics=['accuracy'])\n",
    "print(model.summary())"
   ]
  },
  {
   "cell_type": "code",
   "execution_count": null,
   "metadata": {
    "colab": {
     "base_uri": "https://localhost:8080/",
     "height": 242
    },
    "id": "lgmVVsrGszmc",
    "outputId": "eecfa61b-4ed1-4edd-b07f-95000cd48d18"
   },
   "outputs": [],
   "source": [
    "from tensorflow.keras.models import Sequential\n",
    "from tensorflow.keras.layers import Embedding, LSTM, Dense\n",
    "\n",
    "# Assuming voc_size and sent_length are predefined variables\n",
    "embedding_vector_features = 40  # Size of the embedding vector\n",
    "\n",
    "model = Sequential()\n",
    "\n",
    "# Embedding layer with correct input_dim (voc_size) and without deprecated input_length\n",
    "model.add(Embedding(input_dim=voc_size, output_dim=embedding_vector_features))\n",
    "\n",
    "# LSTM layer\n",
    "model.add(LSTM(100))\n",
    "\n",
    "# Dense layer with sigmoid activation for binary classification\n",
    "model.add(Dense(1, activation='sigmoid'))\n",
    "\n",
    "# Compile the model\n",
    "model.compile(loss='binary_crossentropy', optimizer='adam', metrics=['accuracy'])\n",
    "\n",
    "# Display the model summary\n",
    "print(model.summary())\n"
   ]
  },
  {
   "cell_type": "code",
   "execution_count": 42,
   "metadata": {
    "id": "2tDw6uWNuSyS"
   },
   "outputs": [],
   "source": [
    "model.build(input_shape=(None, sent_length))\n"
   ]
  },
  {
   "cell_type": "code",
   "execution_count": null,
   "metadata": {
    "colab": {
     "base_uri": "https://localhost:8080/",
     "height": 260
    },
    "id": "VAnYfDA0vrDu",
    "outputId": "092c3031-4f1a-4635-95eb-deef1d11eb28"
   },
   "outputs": [],
   "source": [
    "import numpy as np\n",
    "\n",
    "# Dummy data: batch size of 1, sentence length of sent_length\n",
    "dummy_input = np.random.randint(0, voc_size, (1, sent_length))\n",
    "model.predict(dummy_input)\n",
    "\n",
    "print(model.summary())\n",
    "\n",
    "# Embedding Layer\n",
    "# 20: This is the input length or sequence length, which represents the number of words in each input sequence.\n",
    "# 40: This is the embedding dimension size (embedding_vector_features), which is the size of each word's embedding vector.\n",
    "# This is the total number of parameters in the Embedding layer.\n",
    "# Calculated as voc_size * embedding_vector_features = 5000 * 40 = 200,000.\n",
    "\n",
    "# LSTM LAYER\n",
    "# None: Again, the batch size is flexible.\n",
    "# 100: This is the number of LSTM units (neurons) in the layer.\n",
    "# This is the total number of parameters in the LSTM layer.\n",
    "# The LSTM parameters include:\n",
    "# 4 * [(embedding_vector_features + LSTM_units) * LSTM_units + LSTM_units]\n",
    "# Specifically: 4 * [(40 + 100) * 100 + 100] = 4 * [140 * 100 + 100] = 4 * [14,000 + 100] = 4 * 14,100 = 56,400.\n",
    "# These parameters include the weights for input, forget, cell, and output gates in the LSTM.\n",
    "\n",
    "# Dense Layer\n",
    "# Output Shape: (None, 1)\n",
    "# None: Again, the batch size is flexible.\n",
    "# 1: This is the output size, which is 1 because the model is set up for binary classification (predicting one of two classes).\n",
    "# Param # (101):\n",
    "# This is the total number of parameters in the Dense layer.\n",
    "# Calculated as LSTM_units + 1 = 100 + 1 = 101.\n",
    "\n",
    "# Total Parameters:\n",
    "# Total params: 256,501\n",
    "\n",
    "# This is the sum of all the parameters across all layers: 200,000 (Embedding) + 56,400 (LSTM) + 101 (Dense) = 256,501.\n",
    "# Trainable params: 256,501\n",
    "\n",
    "# All the parameters in the model are trainable, meaning they will be updated during training to minimize the loss.\n",
    "# Non-trainable params: 0\n",
    "\n",
    "# There are no non-trainable parameters in this model. Non-trainable parameters might exist in models with layers like Batch Normalization where some parameters are not updated during training.\n"
   ]
  },
  {
   "cell_type": "code",
   "execution_count": null,
   "metadata": {
    "colab": {
     "base_uri": "https://localhost:8080/"
    },
    "id": "1ZQGnzM8wKVc",
    "outputId": "c0045d57-67cc-4c5f-9966-533ed92788c4"
   },
   "outputs": [],
   "source": [
    "len(embedded_docs),y.shape"
   ]
  },
  {
   "cell_type": "code",
   "execution_count": 45,
   "metadata": {
    "id": "xgC13C3RwK5v"
   },
   "outputs": [],
   "source": [
    "import numpy as np\n",
    "X_final=np.array(embedded_docs)\n",
    "y_final=np.array(y)"
   ]
  },
  {
   "cell_type": "code",
   "execution_count": null,
   "metadata": {
    "colab": {
     "base_uri": "https://localhost:8080/"
    },
    "id": "pLJIw7_0wSJ3",
    "outputId": "3d1aaffb-5d93-4fcc-c180-67d0c26c4a8d"
   },
   "outputs": [],
   "source": [
    "X_final.shape,y_final.shape"
   ]
  },
  {
   "cell_type": "code",
   "execution_count": 47,
   "metadata": {
    "id": "Ck8XbpKCwTqz"
   },
   "outputs": [],
   "source": [
    "from sklearn.model_selection import train_test_split\n",
    "X_train, X_test, y_train, y_test = train_test_split(X_final, y_final, test_size=0.33, random_state=42)"
   ]
  },
  {
   "cell_type": "code",
   "execution_count": 48,
   "metadata": {
    "id": "LXVMwex-waGx"
   },
   "outputs": [],
   "source": [
    "# Model Training"
   ]
  },
  {
   "cell_type": "code",
   "execution_count": null,
   "metadata": {
    "colab": {
     "base_uri": "https://localhost:8080/"
    },
    "id": "htTX2__4wWQ4",
    "outputId": "f669d7d7-a479-4e0e-a7c4-77f61754c495"
   },
   "outputs": [],
   "source": [
    "### Finally Training\n",
    "model.fit(X_train,y_train,validation_data=(X_test,y_test),epochs=10,batch_size=64)"
   ]
  },
  {
   "cell_type": "code",
   "execution_count": 50,
   "metadata": {
    "id": "01IT4RCFwgBS"
   },
   "outputs": [],
   "source": [
    "# Performance Metrics & Accuracy"
   ]
  },
  {
   "cell_type": "code",
   "execution_count": null,
   "metadata": {
    "colab": {
     "base_uri": "https://localhost:8080/"
    },
    "id": "cnyPec37wsC0",
    "outputId": "ccac3ace-c471-461d-a291-c3b4b06dadb6"
   },
   "outputs": [],
   "source": [
    "y_pred=model.predict(X_test)"
   ]
  },
  {
   "cell_type": "code",
   "execution_count": 52,
   "metadata": {
    "id": "waDJaW-Ewtok"
   },
   "outputs": [],
   "source": [
    "y_pred=np.where(y_pred > 0.5, 1,0) ##AUC ROC Curve"
   ]
  },
  {
   "cell_type": "code",
   "execution_count": 53,
   "metadata": {
    "id": "vrPIRCb2ww5W"
   },
   "outputs": [],
   "source": [
    "# setting a threshold value of 0.5->0.5=1 and <0.5 =0\n",
    "from sklearn.metrics import confusion_matrix"
   ]
  },
  {
   "cell_type": "code",
   "execution_count": null,
   "metadata": {
    "colab": {
     "base_uri": "https://localhost:8080/"
    },
    "id": "2yFhW3fFwyhh",
    "outputId": "8482c802-05ba-4e26-9bd4-0a1f60dee3bf"
   },
   "outputs": [],
   "source": [
    "confusion_matrix(y_test,y_pred)"
   ]
  },
  {
   "cell_type": "code",
   "execution_count": null,
   "metadata": {
    "colab": {
     "base_uri": "https://localhost:8080/"
    },
    "id": "aSYvwa-yw0el",
    "outputId": "66e935a0-7fd5-4a4a-b159-393bbc14445d"
   },
   "outputs": [],
   "source": [
    "from sklearn.metrics import accuracy_score\n",
    "accuracy_score(y_test,y_pred)\n",
    "#91%"
   ]
  },
  {
   "cell_type": "code",
   "execution_count": null,
   "metadata": {
    "colab": {
     "base_uri": "https://localhost:8080/"
    },
    "id": "SiuhjGTgw13D",
    "outputId": "224409ef-fed9-4a24-bc0a-94d219ac87d5"
   },
   "outputs": [],
   "source": [
    "from sklearn.metrics import classification_report\n",
    "print(classification_report(y_test,y_pred))"
   ]
  },
  {
   "cell_type": "code",
   "execution_count": 57,
   "metadata": {
    "id": "VkCHnrlZw30V"
   },
   "outputs": [],
   "source": [
    "# Bidirectional LSTM RNN"
   ]
  },
  {
   "cell_type": "code",
   "execution_count": 58,
   "metadata": {
    "id": "FlIXKjEzkOyY"
   },
   "outputs": [],
   "source": [
    "from tensorflow.keras.layers import Bidirectional"
   ]
  },
  {
   "cell_type": "code",
   "execution_count": null,
   "metadata": {
    "colab": {
     "base_uri": "https://localhost:8080/",
     "height": 242
    },
    "id": "BeZihZ51kSrm",
    "outputId": "b8732935-9603-4a08-bab3-bc81a0395371"
   },
   "outputs": [],
   "source": [
    "embedding_vector_features=40 ##features representation\n",
    "model=Sequential()\n",
    "\n",
    "# embedding layer\n",
    "model.add(Embedding(voc_size, embedding_vector_features))\n",
    "\n",
    "# LSTM-100 NEURONS\n",
    "model.add(Bidirectional(LSTM(200)))\n",
    "\n",
    "# Sigmoid for binary prediction in model\n",
    "model.add(Dense(1, activation='sigmoid'))\n",
    "\n",
    "model.compile(loss='binary_crossentropy', optimizer='adam', metrics=['accuracy'])\n",
    "print(model.summary())"
   ]
  },
  {
   "cell_type": "code",
   "execution_count": 60,
   "metadata": {
    "id": "vO4Km-Rskr5Y"
   },
   "outputs": [],
   "source": [
    "model.build(input_shape=(None, sent_length))"
   ]
  },
  {
   "cell_type": "code",
   "execution_count": null,
   "metadata": {
    "colab": {
     "base_uri": "https://localhost:8080/",
     "height": 260
    },
    "id": "wbhbOfyxkyVN",
    "outputId": "96da1b6f-d0d3-4074-8afa-9c8c31ff398f"
   },
   "outputs": [],
   "source": [
    "import numpy as np\n",
    "\n",
    "# Dummy data: batch size of 1, sentence length of sent_length\n",
    "dummy_input = np.random.randint(0, voc_size, (1, sent_length))\n",
    "model.predict(dummy_input)\n",
    "\n",
    "print(model.summary())"
   ]
  },
  {
   "cell_type": "code",
   "execution_count": 62,
   "metadata": {
    "id": "cL3BHqFxk2yF"
   },
   "outputs": [],
   "source": [
    "import numpy as np\n",
    "X_final=np.array(embedded_docs)\n",
    "y_final=np.array(y)"
   ]
  },
  {
   "cell_type": "code",
   "execution_count": 63,
   "metadata": {
    "id": "xirQTFa6lCmE"
   },
   "outputs": [],
   "source": [
    "from sklearn.model_selection import train_test_split\n",
    "X_train, X_test, y_train, y_test = train_test_split(X_final, y_final, test_size=0.33, random_state=42)"
   ]
  },
  {
   "cell_type": "code",
   "execution_count": 64,
   "metadata": {
    "id": "xjGP0JOPlG_4"
   },
   "outputs": [],
   "source": [
    "# Model Training"
   ]
  },
  {
   "cell_type": "code",
   "execution_count": null,
   "metadata": {
    "colab": {
     "base_uri": "https://localhost:8080/"
    },
    "id": "Q40jjvqqlLcc",
    "outputId": "67c743d3-eb1a-4d68-f14c-abe37d7b6f0d"
   },
   "outputs": [],
   "source": [
    "### Finally Training\n",
    "model.fit(X_train,y_train,validation_data=(X_test,y_test),epochs=10,batch_size=64)"
   ]
  },
  {
   "cell_type": "code",
   "execution_count": null,
   "metadata": {
    "colab": {
     "base_uri": "https://localhost:8080/"
    },
    "id": "_Bxr0Lz3lTvg",
    "outputId": "ff619851-a6ca-4509-da66-159793f19131"
   },
   "outputs": [],
   "source": [
    "# Performance Metrics & Accuracy\n",
    "y_pred=model.predict(X_test)"
   ]
  },
  {
   "cell_type": "code",
   "execution_count": null,
   "metadata": {
    "colab": {
     "base_uri": "https://localhost:8080/"
    },
    "id": "KqyopfJVlU1h",
    "outputId": "11c18b66-586f-42f2-fb60-a9f96e17cc72",
    "scrolled": true
   },
   "outputs": [],
   "source": [
    "y_pred=np.where(y_pred > 0.5, 1,0) ##AUC ROC Curve\n",
    "y_pred"
   ]
  },
  {
   "cell_type": "code",
   "execution_count": 68,
   "metadata": {
    "id": "TfQRvmaJlVBT"
   },
   "outputs": [],
   "source": [
    "# setting a threshold value of 0.5->0.5=1 and <0.5 =0\n",
    "from sklearn.metrics import confusion_matrix"
   ]
  },
  {
   "cell_type": "code",
   "execution_count": null,
   "metadata": {
    "colab": {
     "base_uri": "https://localhost:8080/"
    },
    "id": "073SknRFljdx",
    "outputId": "3d815376-4fa0-4985-9fd3-824dd466df09"
   },
   "outputs": [],
   "source": [
    "confusion_matrix(y_test,y_pred)"
   ]
  },
  {
   "cell_type": "code",
   "execution_count": null,
   "metadata": {
    "colab": {
     "base_uri": "https://localhost:8080/"
    },
    "id": "cCMCeMgBlm7C",
    "outputId": "6f98776d-95ea-4977-ea39-7adb43f59c74"
   },
   "outputs": [],
   "source": [
    "from sklearn.metrics import accuracy_score\n",
    "accuracy_score(y_test,y_pred)"
   ]
  },
  {
   "cell_type": "code",
   "execution_count": null,
   "metadata": {
    "colab": {
     "base_uri": "https://localhost:8080/"
    },
    "id": "CpMvWEUMluCe",
    "outputId": "1ef4b9dc-466c-4309-fc7d-d313838bf78d"
   },
   "outputs": [],
   "source": [
    "from sklearn.metrics import classification_report\n",
    "print(classification_report(y_test,y_pred))"
   ]
  }
 ],
 "metadata": {
  "colab": {
   "authorship_tag": "ABX9TyObM+FYoLKZicPsnX78EdKr",
   "include_colab_link": true,
   "provenance": []
  },
  "kernelspec": {
   "display_name": "Python 3 (ipykernel)",
   "language": "python",
   "name": "python3"
  },
  "language_info": {
   "codemirror_mode": {
    "name": "ipython",
    "version": 3
   },
   "file_extension": ".py",
   "mimetype": "text/x-python",
   "name": "python",
   "nbconvert_exporter": "python",
   "pygments_lexer": "ipython3",
   "version": "3.12.4"
  }
 },
 "nbformat": 4,
 "nbformat_minor": 4
}
