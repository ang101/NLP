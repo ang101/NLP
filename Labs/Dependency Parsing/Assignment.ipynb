{
 "cells": [
  {
   "cell_type": "markdown",
   "metadata": {},
   "source": [
    "## Dependency Parsing(Graded)\n",
    "Welcome to your programming assignment on Dependency parsing, you will explore spacy library to build your own dependcy parsing and visualize them.\n",
    "\n",
    "#### Problem Description\n",
    "- We will tokenize, detect sentence, lemmatization, POS tagging.\n",
    "\n",
    "#### Instructions\n",
    "- Do not modify any of the codes.\n",
    "- Only write code when prompted. For example in some sections you will find the following,\n",
    "```\n",
    "# YOUR CODE GOES HERE\n",
    "# YOUR CODE ENDS HERE\n",
    "# TODO\n",
    "```\n",
    "\n",
    "Only modify those sections of the code."
   ]
  },
  {
   "cell_type": "code",
   "execution_count": null,
   "metadata": {
    "execution": {
     "iopub.execute_input": "2022-09-01T05:08:27.799019Z",
     "iopub.status.busy": "2022-09-01T05:08:27.798004Z",
     "iopub.status.idle": "2022-09-01T05:08:38.866540Z",
     "shell.execute_reply": "2022-09-01T05:08:38.865222Z",
     "shell.execute_reply.started": "2022-09-01T05:08:27.798968Z"
    },
    "trusted": true
   },
   "outputs": [],
   "source": [
    "import spacy\n",
    "import spacy.displacy as displacy"
   ]
  },
  {
   "cell_type": "markdown",
   "metadata": {},
   "source": [
    "### Task: Loading the spaCy Model\n",
    "Load the `en_core_web_sm` model using spaCy. This model is a small English model that includes vocabulary, syntax, and entities. It is essential for performing various NLP tasks such as tokenization, POS tagging, dependency parsing, and more."
   ]
  },
  {
   "cell_type": "code",
   "execution_count": null,
   "metadata": {
    "execution": {
     "iopub.execute_input": "2022-09-01T05:08:38.869672Z",
     "iopub.status.busy": "2022-09-01T05:08:38.868955Z",
     "iopub.status.idle": "2022-09-01T05:08:39.720385Z",
     "shell.execute_reply": "2022-09-01T05:08:39.719199Z",
     "shell.execute_reply.started": "2022-09-01T05:08:38.869631Z"
    },
    "trusted": true
   },
   "outputs": [],
   "source": [
    "nlp= 0 # TODO: Load the spacy model"
   ]
  },
  {
   "cell_type": "markdown",
   "metadata": {},
   "source": [
    "### spaCy’s Processing Pipeline\n",
    "let's check available pipelines from the model you imported"
   ]
  },
  {
   "cell_type": "code",
   "execution_count": null,
   "metadata": {
    "execution": {
     "iopub.execute_input": "2022-09-01T05:08:39.722934Z",
     "iopub.status.busy": "2022-09-01T05:08:39.722203Z",
     "iopub.status.idle": "2022-09-01T05:08:39.734558Z",
     "shell.execute_reply": "2022-09-01T05:08:39.733193Z",
     "shell.execute_reply.started": "2022-09-01T05:08:39.722885Z"
    },
    "trusted": true
   },
   "outputs": [],
   "source": [
    "nlp.pipe_names"
   ]
  },
  {
   "cell_type": "markdown",
   "metadata": {},
   "source": [
    "### Task: Tokenization\n",
    "From the doc spilt the text into tokens."
   ]
  },
  {
   "cell_type": "code",
   "execution_count": null,
   "metadata": {
    "execution": {
     "iopub.execute_input": "2022-09-01T05:08:39.737353Z",
     "iopub.status.busy": "2022-09-01T05:08:39.736884Z",
     "iopub.status.idle": "2022-09-01T05:08:39.787181Z",
     "shell.execute_reply": "2022-09-01T05:08:39.786285Z",
     "shell.execute_reply.started": "2022-09-01T05:08:39.737310Z"
    },
    "trusted": true
   },
   "outputs": [],
   "source": [
    "doc = nlp('Entrepreneur and business magnate, Elon Musk is the CEO and founder of the aerospace company SpaceX and co-founder of Tesla Motors. He also hopes to change the world, advancing private spaceflight with the aim of landing humans on other planets like Mars, and developing a new tube-transport system called the Hyperloop. Live Science will keep you up on Musk’s latest ideas and developments so you can keep your two feet on Earth while looking up at the stars.')"
   ]
  },
  {
   "cell_type": "code",
   "execution_count": null,
   "metadata": {
    "execution": {
     "iopub.execute_input": "2022-09-01T05:08:39.943222Z",
     "iopub.status.busy": "2022-09-01T05:08:39.942593Z",
     "iopub.status.idle": "2022-09-01T05:08:39.949756Z",
     "shell.execute_reply": "2022-09-01T05:08:39.948704Z",
     "shell.execute_reply.started": "2022-09-01T05:08:39.943187Z"
    },
    "trusted": true
   },
   "outputs": [],
   "source": [
    "token = 0 # TODO: replace this line to split into tokens\n",
    "print(token)"
   ]
  },
  {
   "cell_type": "markdown",
   "metadata": {},
   "source": [
    "### Task: Sentence Detection\n",
    "Detect sentences from the `doc`"
   ]
  },
  {
   "cell_type": "code",
   "execution_count": null,
   "metadata": {
    "execution": {
     "iopub.execute_input": "2022-09-01T05:08:41.158478Z",
     "iopub.status.busy": "2022-09-01T05:08:41.157709Z",
     "iopub.status.idle": "2022-09-01T05:08:41.166229Z",
     "shell.execute_reply": "2022-09-01T05:08:41.165255Z",
     "shell.execute_reply.started": "2022-09-01T05:08:41.158428Z"
    },
    "trusted": true
   },
   "outputs": [],
   "source": [
    "# TODO: Detect sentence from the doc"
   ]
  },
  {
   "cell_type": "markdown",
   "metadata": {},
   "source": [
    "### Task: Stop Words\n",
    "Stop words are the most common words in a language. In the English language, some examples of stop words are the, are, but, and they. Most sentences need to contain stop words in order to be full sentences that make sense."
   ]
  },
  {
   "cell_type": "code",
   "execution_count": null,
   "metadata": {
    "execution": {
     "iopub.execute_input": "2022-09-01T05:08:41.959084Z",
     "iopub.status.busy": "2022-09-01T05:08:41.958369Z",
     "iopub.status.idle": "2022-09-01T05:08:41.964320Z",
     "shell.execute_reply": "2022-09-01T05:08:41.963449Z",
     "shell.execute_reply.started": "2022-09-01T05:08:41.959042Z"
    },
    "trusted": true
   },
   "outputs": [],
   "source": [
    "all_stop_words = 0 # TODO: from the model import the default stopwords\n",
    "print(len(all_stop_words))\n",
    "print(all_stop_words)"
   ]
  },
  {
   "cell_type": "markdown",
   "metadata": {},
   "source": [
    "We should have 326 stop words"
   ]
  },
  {
   "cell_type": "code",
   "execution_count": null,
   "metadata": {
    "execution": {
     "iopub.execute_input": "2022-09-01T05:08:42.498433Z",
     "iopub.status.busy": "2022-09-01T05:08:42.497687Z",
     "iopub.status.idle": "2022-09-01T05:08:42.504237Z",
     "shell.execute_reply": "2022-09-01T05:08:42.502960Z",
     "shell.execute_reply.started": "2022-09-01T05:08:42.498393Z"
    },
    "trusted": true
   },
   "outputs": [],
   "source": [
    "tokenized_words = 0 # TODO: Tokenize the `doc`\n",
    "print(tokenized_words)"
   ]
  },
  {
   "cell_type": "code",
   "execution_count": null,
   "metadata": {
    "execution": {
     "iopub.execute_input": "2022-09-01T05:08:43.797830Z",
     "iopub.status.busy": "2022-09-01T05:08:43.797415Z",
     "iopub.status.idle": "2022-09-01T05:08:43.804980Z",
     "shell.execute_reply": "2022-09-01T05:08:43.803352Z",
     "shell.execute_reply.started": "2022-09-01T05:08:43.797796Z"
    },
    "trusted": true
   },
   "outputs": [],
   "source": [
    "removed_stop_words = 0 # TODO: From the Tokenized words remove the stop words\n",
    "print(removed_stop_words)"
   ]
  },
  {
   "cell_type": "markdown",
   "metadata": {},
   "source": [
    "### Lemmatization"
   ]
  },
  {
   "cell_type": "code",
   "execution_count": null,
   "metadata": {
    "execution": {
     "iopub.execute_input": "2022-09-01T05:08:46.318864Z",
     "iopub.status.busy": "2022-09-01T05:08:46.317559Z",
     "iopub.status.idle": "2022-09-01T05:08:46.328021Z",
     "shell.execute_reply": "2022-09-01T05:08:46.326424Z",
     "shell.execute_reply.started": "2022-09-01T05:08:46.318804Z"
    },
    "trusted": true
   },
   "outputs": [],
   "source": [
    "for word in doc:\n",
    "    if not word.is_stop and not word.is_punct:\n",
    "        print(word.text,\"|\",word.lemma_)"
   ]
  },
  {
   "cell_type": "markdown",
   "metadata": {},
   "source": [
    "### Task: Word Frequency"
   ]
  },
  {
   "cell_type": "code",
   "execution_count": null,
   "metadata": {
    "execution": {
     "iopub.execute_input": "2022-09-01T05:08:47.893003Z",
     "iopub.status.busy": "2022-09-01T05:08:47.892586Z",
     "iopub.status.idle": "2022-09-01T05:08:47.898462Z",
     "shell.execute_reply": "2022-09-01T05:08:47.897197Z",
     "shell.execute_reply.started": "2022-09-01T05:08:47.892971Z"
    },
    "trusted": true
   },
   "outputs": [],
   "source": [
    "# TODO: create a variable punctuation with all the punctuations available\n",
    "print(punctuation)"
   ]
  },
  {
   "cell_type": "code",
   "execution_count": null,
   "metadata": {
    "execution": {
     "iopub.execute_input": "2022-09-01T05:08:49.022987Z",
     "iopub.status.busy": "2022-09-01T05:08:49.022551Z",
     "iopub.status.idle": "2022-09-01T05:08:49.028802Z",
     "shell.execute_reply": "2022-09-01T05:08:49.027973Z",
     "shell.execute_reply.started": "2022-09-01T05:08:49.022949Z"
    },
    "trusted": true
   },
   "outputs": [],
   "source": [
    "words = 0 # TODO: Convert doc into list\n",
    "wordList = [word.lemma_ for word in words if not word.is_stop and not word.is_punct ]\n",
    "print(wordList)"
   ]
  },
  {
   "cell_type": "code",
   "execution_count": null,
   "metadata": {
    "execution": {
     "iopub.execute_input": "2022-09-01T05:08:49.418109Z",
     "iopub.status.busy": "2022-09-01T05:08:49.417688Z",
     "iopub.status.idle": "2022-09-01T05:08:49.424866Z",
     "shell.execute_reply": "2022-09-01T05:08:49.423332Z",
     "shell.execute_reply.started": "2022-09-01T05:08:49.418075Z"
    },
    "trusted": true
   },
   "outputs": [],
   "source": [
    "# TODO: Create list of words to hold the count of wordList\n",
    "print(listOfWords)"
   ]
  },
  {
   "cell_type": "code",
   "execution_count": null,
   "metadata": {
    "execution": {
     "iopub.execute_input": "2022-09-01T05:08:49.798609Z",
     "iopub.status.busy": "2022-09-01T05:08:49.797783Z",
     "iopub.status.idle": "2022-09-01T05:08:49.804644Z",
     "shell.execute_reply": "2022-09-01T05:08:49.803225Z",
     "shell.execute_reply.started": "2022-09-01T05:08:49.798560Z"
    },
    "trusted": true
   },
   "outputs": [],
   "source": [
    "# TODO: Print the top 5 list of most common list of words"
   ]
  },
  {
   "cell_type": "markdown",
   "metadata": {},
   "source": [
    "### Part of Speech Tagging\n",
    "Part of speech or POS is a grammatical role that explains how a particular word is used in a sentence"
   ]
  },
  {
   "cell_type": "code",
   "execution_count": null,
   "metadata": {
    "execution": {
     "iopub.execute_input": "2022-09-01T05:08:50.398502Z",
     "iopub.status.busy": "2022-09-01T05:08:50.398066Z",
     "iopub.status.idle": "2022-09-01T05:08:50.407619Z",
     "shell.execute_reply": "2022-09-01T05:08:50.406161Z",
     "shell.execute_reply.started": "2022-09-01T05:08:50.398457Z"
    },
    "trusted": true
   },
   "outputs": [],
   "source": [
    "for word in doc:\n",
    "    print(word.text,'|',word.tag_,'|',spacy.explain(word.tag_))"
   ]
  },
  {
   "cell_type": "markdown",
   "metadata": {},
   "source": [
    "### Dependency Parsing using spaCy\n",
    "Every sentence has a grammatical structure to it and with the help of dependency parsing, we can extract this structure. "
   ]
  },
  {
   "cell_type": "code",
   "execution_count": null,
   "metadata": {
    "execution": {
     "iopub.execute_input": "2022-09-01T05:08:50.937815Z",
     "iopub.status.busy": "2022-09-01T05:08:50.937417Z",
     "iopub.status.idle": "2022-09-01T05:08:50.946512Z",
     "shell.execute_reply": "2022-09-01T05:08:50.944874Z",
     "shell.execute_reply.started": "2022-09-01T05:08:50.937784Z"
    },
    "trusted": true
   },
   "outputs": [],
   "source": [
    "for word in doc:\n",
    "    print(word.text,'|',word.dep_)"
   ]
  },
  {
   "cell_type": "code",
   "execution_count": null,
   "metadata": {
    "execution": {
     "iopub.execute_input": "2022-09-01T05:08:51.218138Z",
     "iopub.status.busy": "2022-09-01T05:08:51.217736Z",
     "iopub.status.idle": "2022-09-01T05:09:05.383840Z",
     "shell.execute_reply": "2022-09-01T05:09:05.382186Z",
     "shell.execute_reply.started": "2022-09-01T05:08:51.218106Z"
    },
    "trusted": true
   },
   "outputs": [],
   "source": [
    "# TODO: Visualize the doc using displacy.\n",
    "# Note: Once you run it should start a server/Run on the notebook, once you verified stop this cell to continue."
   ]
  },
  {
   "cell_type": "markdown",
   "metadata": {},
   "source": [
    "### Task: Document similarities"
   ]
  },
  {
   "cell_type": "code",
   "execution_count": null,
   "metadata": {
    "execution": {
     "iopub.execute_input": "2022-09-01T05:10:03.988688Z",
     "iopub.status.busy": "2022-09-01T05:10:03.988296Z",
     "iopub.status.idle": "2022-09-01T05:10:04.017005Z",
     "shell.execute_reply": "2022-09-01T05:10:04.015891Z",
     "shell.execute_reply.started": "2022-09-01T05:10:03.988657Z"
    },
    "trusted": true
   },
   "outputs": [],
   "source": [
    "# TODO: Now define 2 sentence and check the similarity.\n",
    "print(\"similarity\",text1.similarity(text2))"
   ]
  }
 ],
 "metadata": {
  "kernelspec": {
   "display_name": "Python 3",
   "language": "python",
   "name": "python3"
  },
  "language_info": {
   "codemirror_mode": {
    "name": "ipython",
    "version": 3
   },
   "file_extension": ".py",
   "mimetype": "text/x-python",
   "name": "python",
   "nbconvert_exporter": "python",
   "pygments_lexer": "ipython3",
   "version": "3.7.12"
  }
 },
 "nbformat": 4,
 "nbformat_minor": 4
}
