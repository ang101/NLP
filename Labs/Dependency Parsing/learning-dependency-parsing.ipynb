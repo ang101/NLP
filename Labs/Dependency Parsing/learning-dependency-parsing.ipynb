{
 "cells": [
  {
   "cell_type": "markdown",
   "id": "c791a939",
   "metadata": {
    "papermill": {
     "duration": 0.01844,
     "end_time": "2021-12-02T11:05:57.863138",
     "exception": false,
     "start_time": "2021-12-02T11:05:57.844698",
     "status": "completed"
    },
    "tags": []
   },
   "source": [
    "## Importing Libraries"
   ]
  },
  {
   "cell_type": "code",
   "execution_count": 1,
   "id": "79c91de5",
   "metadata": {
    "execution": {
     "iopub.execute_input": "2021-12-02T11:05:57.910006Z",
     "iopub.status.busy": "2021-12-02T11:05:57.905742Z",
     "iopub.status.idle": "2021-12-02T11:06:09.386840Z",
     "shell.execute_reply": "2021-12-02T11:06:09.386084Z",
     "shell.execute_reply.started": "2021-12-02T11:01:22.689661Z"
    },
    "papermill": {
     "duration": 11.506165,
     "end_time": "2021-12-02T11:06:09.387029",
     "exception": false,
     "start_time": "2021-12-02T11:05:57.880864",
     "status": "completed"
    },
    "tags": []
   },
   "outputs": [],
   "source": [
    "import pandas as pd\n",
    "import spacy\n",
    "\n",
    "from spacy import displacy\n",
    "from spacy.matcher import Matcher\n",
    "\n",
    "nlp = spacy.load(\"en_core_web_sm\")"
   ]
  },
  {
   "cell_type": "markdown",
   "id": "3c6f33c4",
   "metadata": {
    "papermill": {
     "duration": 0.016733,
     "end_time": "2021-12-02T11:06:09.423303",
     "exception": false,
     "start_time": "2021-12-02T11:06:09.406570",
     "status": "completed"
    },
    "tags": []
   },
   "source": [
    "## Example Set"
   ]
  },
  {
   "cell_type": "code",
   "execution_count": 2,
   "id": "f32cc9ad",
   "metadata": {
    "execution": {
     "iopub.execute_input": "2021-12-02T11:06:09.463675Z",
     "iopub.status.busy": "2021-12-02T11:06:09.462998Z",
     "iopub.status.idle": "2021-12-02T11:06:09.465783Z",
     "shell.execute_reply": "2021-12-02T11:06:09.465261Z",
     "shell.execute_reply.started": "2021-12-02T11:01:23.597875Z"
    },
    "papermill": {
     "duration": 0.025541,
     "end_time": "2021-12-02T11:06:09.465930",
     "exception": false,
     "start_time": "2021-12-02T11:06:09.440389",
     "status": "completed"
    },
    "tags": []
   },
   "outputs": [],
   "source": [
    "active = ['Hens lay eggs.',\n",
    "         'Birds build nests.']\n",
    "passive = ['Eggs are laid by hens',\n",
    "           'Nests are built by birds']"
   ]
  },
  {
   "cell_type": "markdown",
   "id": "db723ead",
   "metadata": {
    "papermill": {
     "duration": 0.017614,
     "end_time": "2021-12-02T11:06:09.500816",
     "exception": false,
     "start_time": "2021-12-02T11:06:09.483202",
     "status": "completed"
    },
    "tags": []
   },
   "source": [
    "## Visualizing the First Parse"
   ]
  },
  {
   "cell_type": "code",
   "execution_count": 3,
   "id": "5416f397",
   "metadata": {
    "execution": {
     "iopub.execute_input": "2021-12-02T11:06:09.543858Z",
     "iopub.status.busy": "2021-12-02T11:06:09.543168Z",
     "iopub.status.idle": "2021-12-02T11:06:09.567658Z",
     "shell.execute_reply": "2021-12-02T11:06:09.568277Z",
     "shell.execute_reply.started": "2021-12-02T11:01:23.604799Z"
    },
    "papermill": {
     "duration": 0.049594,
     "end_time": "2021-12-02T11:06:09.568489",
     "exception": false,
     "start_time": "2021-12-02T11:06:09.518895",
     "status": "completed"
    },
    "tags": []
   },
   "outputs": [
    {
     "name": "stdout",
     "output_type": "stream",
     "text": [
      "Hens  --  nsubj\n",
      "lay  --  ROOT\n",
      "eggs  --  dobj\n",
      ".  --  punct\n"
     ]
    }
   ],
   "source": [
    "doc = nlp(active[0])\n",
    "\n",
    "for token in doc:\n",
    "    print(token.text, \" -- \", token.dep_)"
   ]
  },
  {
   "cell_type": "code",
   "execution_count": 4,
   "id": "f003154b",
   "metadata": {
    "execution": {
     "iopub.execute_input": "2021-12-02T11:06:09.616270Z",
     "iopub.status.busy": "2021-12-02T11:06:09.615263Z",
     "iopub.status.idle": "2021-12-02T11:06:09.620037Z",
     "shell.execute_reply": "2021-12-02T11:06:09.619502Z",
     "shell.execute_reply.started": "2021-12-02T11:01:23.626617Z"
    },
    "papermill": {
     "duration": 0.033213,
     "end_time": "2021-12-02T11:06:09.620203",
     "exception": false,
     "start_time": "2021-12-02T11:06:09.586990",
     "status": "completed"
    },
    "tags": []
   },
   "outputs": [
    {
     "data": {
      "text/html": [
       "<span class=\"tex2jax_ignore\"><svg xmlns=\"http://www.w3.org/2000/svg\" xmlns:xlink=\"http://www.w3.org/1999/xlink\" xml:lang=\"en\" id=\"aef9a81e201046d1b5e08869f24fd460-0\" class=\"displacy\" width=\"575\" height=\"224.5\" direction=\"ltr\" style=\"max-width: none; height: 224.5px; color: #000000; background: #ffffff; font-family: Arial; direction: ltr\">\n",
       "<text class=\"displacy-token\" fill=\"currentColor\" text-anchor=\"middle\" y=\"134.5\">\n",
       "    <tspan class=\"displacy-word\" fill=\"currentColor\" x=\"50\">Hens</tspan>\n",
       "    <tspan class=\"displacy-tag\" dy=\"2em\" fill=\"currentColor\" x=\"50\">NOUN</tspan>\n",
       "</text>\n",
       "\n",
       "<text class=\"displacy-token\" fill=\"currentColor\" text-anchor=\"middle\" y=\"134.5\">\n",
       "    <tspan class=\"displacy-word\" fill=\"currentColor\" x=\"225\">lay</tspan>\n",
       "    <tspan class=\"displacy-tag\" dy=\"2em\" fill=\"currentColor\" x=\"225\">VERB</tspan>\n",
       "</text>\n",
       "\n",
       "<text class=\"displacy-token\" fill=\"currentColor\" text-anchor=\"middle\" y=\"134.5\">\n",
       "    <tspan class=\"displacy-word\" fill=\"currentColor\" x=\"400\">eggs.</tspan>\n",
       "    <tspan class=\"displacy-tag\" dy=\"2em\" fill=\"currentColor\" x=\"400\">NOUN</tspan>\n",
       "</text>\n",
       "\n",
       "<g class=\"displacy-arrow\">\n",
       "    <path class=\"displacy-arc\" id=\"arrow-aef9a81e201046d1b5e08869f24fd460-0-0\" stroke-width=\"2px\" d=\"M70,89.5 C70,2.0 225.0,2.0 225.0,89.5\" fill=\"none\" stroke=\"currentColor\"/>\n",
       "    <text dy=\"1.25em\" style=\"font-size: 0.8em; letter-spacing: 1px\">\n",
       "        <textPath xlink:href=\"#arrow-aef9a81e201046d1b5e08869f24fd460-0-0\" class=\"displacy-label\" startOffset=\"50%\" side=\"left\" fill=\"currentColor\" text-anchor=\"middle\">nsubj</textPath>\n",
       "    </text>\n",
       "    <path class=\"displacy-arrowhead\" d=\"M70,91.5 L62,79.5 78,79.5\" fill=\"currentColor\"/>\n",
       "</g>\n",
       "\n",
       "<g class=\"displacy-arrow\">\n",
       "    <path class=\"displacy-arc\" id=\"arrow-aef9a81e201046d1b5e08869f24fd460-0-1\" stroke-width=\"2px\" d=\"M245,89.5 C245,2.0 400.0,2.0 400.0,89.5\" fill=\"none\" stroke=\"currentColor\"/>\n",
       "    <text dy=\"1.25em\" style=\"font-size: 0.8em; letter-spacing: 1px\">\n",
       "        <textPath xlink:href=\"#arrow-aef9a81e201046d1b5e08869f24fd460-0-1\" class=\"displacy-label\" startOffset=\"50%\" side=\"left\" fill=\"currentColor\" text-anchor=\"middle\">dobj</textPath>\n",
       "    </text>\n",
       "    <path class=\"displacy-arrowhead\" d=\"M400.0,91.5 L408.0,79.5 392.0,79.5\" fill=\"currentColor\"/>\n",
       "</g>\n",
       "</svg></span>"
      ],
      "text/plain": [
       "<IPython.core.display.HTML object>"
      ]
     },
     "metadata": {},
     "output_type": "display_data"
    }
   ],
   "source": [
    "displacy.render(doc, style=\"dep\")"
   ]
  },
  {
   "cell_type": "markdown",
   "id": "1093cb83",
   "metadata": {
    "papermill": {
     "duration": 0.018261,
     "end_time": "2021-12-02T11:06:09.656903",
     "exception": false,
     "start_time": "2021-12-02T11:06:09.638642",
     "status": "completed"
    },
    "tags": []
   },
   "source": [
    "## Visualizing All Parses"
   ]
  },
  {
   "cell_type": "code",
   "execution_count": 5,
   "id": "de056372",
   "metadata": {
    "execution": {
     "iopub.execute_input": "2021-12-02T11:06:09.704328Z",
     "iopub.status.busy": "2021-12-02T11:06:09.696245Z",
     "iopub.status.idle": "2021-12-02T11:06:09.762958Z",
     "shell.execute_reply": "2021-12-02T11:06:09.762363Z",
     "shell.execute_reply.started": "2021-12-02T11:01:23.637413Z"
    },
    "papermill": {
     "duration": 0.088157,
     "end_time": "2021-12-02T11:06:09.763126",
     "exception": false,
     "start_time": "2021-12-02T11:06:09.674969",
     "status": "completed"
    },
    "tags": []
   },
   "outputs": [
    {
     "name": "stdout",
     "output_type": "stream",
     "text": [
      "Active Voice Sentences\n",
      "------------------------------------------------------------------\n",
      "Hens  --  nsubj\n",
      "lay  --  ROOT\n",
      "eggs  --  dobj\n",
      ".  --  punct\n"
     ]
    },
    {
     "data": {
      "text/html": [
       "<span class=\"tex2jax_ignore\"><svg xmlns=\"http://www.w3.org/2000/svg\" xmlns:xlink=\"http://www.w3.org/1999/xlink\" xml:lang=\"en\" id=\"3a89f19788174ac29a307c5e46907033-0\" class=\"displacy\" width=\"575\" height=\"224.5\" direction=\"ltr\" style=\"max-width: none; height: 224.5px; color: #000000; background: #ffffff; font-family: Arial; direction: ltr\">\n",
       "<text class=\"displacy-token\" fill=\"currentColor\" text-anchor=\"middle\" y=\"134.5\">\n",
       "    <tspan class=\"displacy-word\" fill=\"currentColor\" x=\"50\">Hens</tspan>\n",
       "    <tspan class=\"displacy-tag\" dy=\"2em\" fill=\"currentColor\" x=\"50\">NOUN</tspan>\n",
       "</text>\n",
       "\n",
       "<text class=\"displacy-token\" fill=\"currentColor\" text-anchor=\"middle\" y=\"134.5\">\n",
       "    <tspan class=\"displacy-word\" fill=\"currentColor\" x=\"225\">lay</tspan>\n",
       "    <tspan class=\"displacy-tag\" dy=\"2em\" fill=\"currentColor\" x=\"225\">VERB</tspan>\n",
       "</text>\n",
       "\n",
       "<text class=\"displacy-token\" fill=\"currentColor\" text-anchor=\"middle\" y=\"134.5\">\n",
       "    <tspan class=\"displacy-word\" fill=\"currentColor\" x=\"400\">eggs.</tspan>\n",
       "    <tspan class=\"displacy-tag\" dy=\"2em\" fill=\"currentColor\" x=\"400\">NOUN</tspan>\n",
       "</text>\n",
       "\n",
       "<g class=\"displacy-arrow\">\n",
       "    <path class=\"displacy-arc\" id=\"arrow-3a89f19788174ac29a307c5e46907033-0-0\" stroke-width=\"2px\" d=\"M70,89.5 C70,2.0 225.0,2.0 225.0,89.5\" fill=\"none\" stroke=\"currentColor\"/>\n",
       "    <text dy=\"1.25em\" style=\"font-size: 0.8em; letter-spacing: 1px\">\n",
       "        <textPath xlink:href=\"#arrow-3a89f19788174ac29a307c5e46907033-0-0\" class=\"displacy-label\" startOffset=\"50%\" side=\"left\" fill=\"currentColor\" text-anchor=\"middle\">nsubj</textPath>\n",
       "    </text>\n",
       "    <path class=\"displacy-arrowhead\" d=\"M70,91.5 L62,79.5 78,79.5\" fill=\"currentColor\"/>\n",
       "</g>\n",
       "\n",
       "<g class=\"displacy-arrow\">\n",
       "    <path class=\"displacy-arc\" id=\"arrow-3a89f19788174ac29a307c5e46907033-0-1\" stroke-width=\"2px\" d=\"M245,89.5 C245,2.0 400.0,2.0 400.0,89.5\" fill=\"none\" stroke=\"currentColor\"/>\n",
       "    <text dy=\"1.25em\" style=\"font-size: 0.8em; letter-spacing: 1px\">\n",
       "        <textPath xlink:href=\"#arrow-3a89f19788174ac29a307c5e46907033-0-1\" class=\"displacy-label\" startOffset=\"50%\" side=\"left\" fill=\"currentColor\" text-anchor=\"middle\">dobj</textPath>\n",
       "    </text>\n",
       "    <path class=\"displacy-arrowhead\" d=\"M400.0,91.5 L408.0,79.5 392.0,79.5\" fill=\"currentColor\"/>\n",
       "</g>\n",
       "</svg></span>"
      ],
      "text/plain": [
       "<IPython.core.display.HTML object>"
      ]
     },
     "metadata": {},
     "output_type": "display_data"
    },
    {
     "name": "stdout",
     "output_type": "stream",
     "text": [
      "Birds  --  nsubj\n",
      "build  --  ROOT\n",
      "nests  --  dobj\n",
      ".  --  punct\n"
     ]
    },
    {
     "data": {
      "text/html": [
       "<span class=\"tex2jax_ignore\"><svg xmlns=\"http://www.w3.org/2000/svg\" xmlns:xlink=\"http://www.w3.org/1999/xlink\" xml:lang=\"en\" id=\"c3bd23fc484a4650b7ee29b09d73ffc4-0\" class=\"displacy\" width=\"575\" height=\"224.5\" direction=\"ltr\" style=\"max-width: none; height: 224.5px; color: #000000; background: #ffffff; font-family: Arial; direction: ltr\">\n",
       "<text class=\"displacy-token\" fill=\"currentColor\" text-anchor=\"middle\" y=\"134.5\">\n",
       "    <tspan class=\"displacy-word\" fill=\"currentColor\" x=\"50\">Birds</tspan>\n",
       "    <tspan class=\"displacy-tag\" dy=\"2em\" fill=\"currentColor\" x=\"50\">NOUN</tspan>\n",
       "</text>\n",
       "\n",
       "<text class=\"displacy-token\" fill=\"currentColor\" text-anchor=\"middle\" y=\"134.5\">\n",
       "    <tspan class=\"displacy-word\" fill=\"currentColor\" x=\"225\">build</tspan>\n",
       "    <tspan class=\"displacy-tag\" dy=\"2em\" fill=\"currentColor\" x=\"225\">VERB</tspan>\n",
       "</text>\n",
       "\n",
       "<text class=\"displacy-token\" fill=\"currentColor\" text-anchor=\"middle\" y=\"134.5\">\n",
       "    <tspan class=\"displacy-word\" fill=\"currentColor\" x=\"400\">nests.</tspan>\n",
       "    <tspan class=\"displacy-tag\" dy=\"2em\" fill=\"currentColor\" x=\"400\">NOUN</tspan>\n",
       "</text>\n",
       "\n",
       "<g class=\"displacy-arrow\">\n",
       "    <path class=\"displacy-arc\" id=\"arrow-c3bd23fc484a4650b7ee29b09d73ffc4-0-0\" stroke-width=\"2px\" d=\"M70,89.5 C70,2.0 225.0,2.0 225.0,89.5\" fill=\"none\" stroke=\"currentColor\"/>\n",
       "    <text dy=\"1.25em\" style=\"font-size: 0.8em; letter-spacing: 1px\">\n",
       "        <textPath xlink:href=\"#arrow-c3bd23fc484a4650b7ee29b09d73ffc4-0-0\" class=\"displacy-label\" startOffset=\"50%\" side=\"left\" fill=\"currentColor\" text-anchor=\"middle\">nsubj</textPath>\n",
       "    </text>\n",
       "    <path class=\"displacy-arrowhead\" d=\"M70,91.5 L62,79.5 78,79.5\" fill=\"currentColor\"/>\n",
       "</g>\n",
       "\n",
       "<g class=\"displacy-arrow\">\n",
       "    <path class=\"displacy-arc\" id=\"arrow-c3bd23fc484a4650b7ee29b09d73ffc4-0-1\" stroke-width=\"2px\" d=\"M245,89.5 C245,2.0 400.0,2.0 400.0,89.5\" fill=\"none\" stroke=\"currentColor\"/>\n",
       "    <text dy=\"1.25em\" style=\"font-size: 0.8em; letter-spacing: 1px\">\n",
       "        <textPath xlink:href=\"#arrow-c3bd23fc484a4650b7ee29b09d73ffc4-0-1\" class=\"displacy-label\" startOffset=\"50%\" side=\"left\" fill=\"currentColor\" text-anchor=\"middle\">dobj</textPath>\n",
       "    </text>\n",
       "    <path class=\"displacy-arrowhead\" d=\"M400.0,91.5 L408.0,79.5 392.0,79.5\" fill=\"currentColor\"/>\n",
       "</g>\n",
       "</svg></span>"
      ],
      "text/plain": [
       "<IPython.core.display.HTML object>"
      ]
     },
     "metadata": {},
     "output_type": "display_data"
    },
    {
     "name": "stdout",
     "output_type": "stream",
     "text": [
      "\n",
      "\n",
      "Passive Voice Sentences\n",
      "------------------------------------------------------------------\n",
      "Eggs  --  nsubjpass\n",
      "are  --  auxpass\n",
      "laid  --  ROOT\n",
      "by  --  agent\n",
      "hens  --  pobj\n"
     ]
    },
    {
     "data": {
      "text/html": [
       "<span class=\"tex2jax_ignore\"><svg xmlns=\"http://www.w3.org/2000/svg\" xmlns:xlink=\"http://www.w3.org/1999/xlink\" xml:lang=\"en\" id=\"1c2f2ae338b54865a59da28620520a01-0\" class=\"displacy\" width=\"925\" height=\"312.0\" direction=\"ltr\" style=\"max-width: none; height: 312.0px; color: #000000; background: #ffffff; font-family: Arial; direction: ltr\">\n",
       "<text class=\"displacy-token\" fill=\"currentColor\" text-anchor=\"middle\" y=\"222.0\">\n",
       "    <tspan class=\"displacy-word\" fill=\"currentColor\" x=\"50\">Eggs</tspan>\n",
       "    <tspan class=\"displacy-tag\" dy=\"2em\" fill=\"currentColor\" x=\"50\">NOUN</tspan>\n",
       "</text>\n",
       "\n",
       "<text class=\"displacy-token\" fill=\"currentColor\" text-anchor=\"middle\" y=\"222.0\">\n",
       "    <tspan class=\"displacy-word\" fill=\"currentColor\" x=\"225\">are</tspan>\n",
       "    <tspan class=\"displacy-tag\" dy=\"2em\" fill=\"currentColor\" x=\"225\">AUX</tspan>\n",
       "</text>\n",
       "\n",
       "<text class=\"displacy-token\" fill=\"currentColor\" text-anchor=\"middle\" y=\"222.0\">\n",
       "    <tspan class=\"displacy-word\" fill=\"currentColor\" x=\"400\">laid</tspan>\n",
       "    <tspan class=\"displacy-tag\" dy=\"2em\" fill=\"currentColor\" x=\"400\">VERB</tspan>\n",
       "</text>\n",
       "\n",
       "<text class=\"displacy-token\" fill=\"currentColor\" text-anchor=\"middle\" y=\"222.0\">\n",
       "    <tspan class=\"displacy-word\" fill=\"currentColor\" x=\"575\">by</tspan>\n",
       "    <tspan class=\"displacy-tag\" dy=\"2em\" fill=\"currentColor\" x=\"575\">ADP</tspan>\n",
       "</text>\n",
       "\n",
       "<text class=\"displacy-token\" fill=\"currentColor\" text-anchor=\"middle\" y=\"222.0\">\n",
       "    <tspan class=\"displacy-word\" fill=\"currentColor\" x=\"750\">hens</tspan>\n",
       "    <tspan class=\"displacy-tag\" dy=\"2em\" fill=\"currentColor\" x=\"750\">NOUN</tspan>\n",
       "</text>\n",
       "\n",
       "<g class=\"displacy-arrow\">\n",
       "    <path class=\"displacy-arc\" id=\"arrow-1c2f2ae338b54865a59da28620520a01-0-0\" stroke-width=\"2px\" d=\"M70,177.0 C70,2.0 400.0,2.0 400.0,177.0\" fill=\"none\" stroke=\"currentColor\"/>\n",
       "    <text dy=\"1.25em\" style=\"font-size: 0.8em; letter-spacing: 1px\">\n",
       "        <textPath xlink:href=\"#arrow-1c2f2ae338b54865a59da28620520a01-0-0\" class=\"displacy-label\" startOffset=\"50%\" side=\"left\" fill=\"currentColor\" text-anchor=\"middle\">nsubjpass</textPath>\n",
       "    </text>\n",
       "    <path class=\"displacy-arrowhead\" d=\"M70,179.0 L62,167.0 78,167.0\" fill=\"currentColor\"/>\n",
       "</g>\n",
       "\n",
       "<g class=\"displacy-arrow\">\n",
       "    <path class=\"displacy-arc\" id=\"arrow-1c2f2ae338b54865a59da28620520a01-0-1\" stroke-width=\"2px\" d=\"M245,177.0 C245,89.5 395.0,89.5 395.0,177.0\" fill=\"none\" stroke=\"currentColor\"/>\n",
       "    <text dy=\"1.25em\" style=\"font-size: 0.8em; letter-spacing: 1px\">\n",
       "        <textPath xlink:href=\"#arrow-1c2f2ae338b54865a59da28620520a01-0-1\" class=\"displacy-label\" startOffset=\"50%\" side=\"left\" fill=\"currentColor\" text-anchor=\"middle\">auxpass</textPath>\n",
       "    </text>\n",
       "    <path class=\"displacy-arrowhead\" d=\"M245,179.0 L237,167.0 253,167.0\" fill=\"currentColor\"/>\n",
       "</g>\n",
       "\n",
       "<g class=\"displacy-arrow\">\n",
       "    <path class=\"displacy-arc\" id=\"arrow-1c2f2ae338b54865a59da28620520a01-0-2\" stroke-width=\"2px\" d=\"M420,177.0 C420,89.5 570.0,89.5 570.0,177.0\" fill=\"none\" stroke=\"currentColor\"/>\n",
       "    <text dy=\"1.25em\" style=\"font-size: 0.8em; letter-spacing: 1px\">\n",
       "        <textPath xlink:href=\"#arrow-1c2f2ae338b54865a59da28620520a01-0-2\" class=\"displacy-label\" startOffset=\"50%\" side=\"left\" fill=\"currentColor\" text-anchor=\"middle\">agent</textPath>\n",
       "    </text>\n",
       "    <path class=\"displacy-arrowhead\" d=\"M570.0,179.0 L578.0,167.0 562.0,167.0\" fill=\"currentColor\"/>\n",
       "</g>\n",
       "\n",
       "<g class=\"displacy-arrow\">\n",
       "    <path class=\"displacy-arc\" id=\"arrow-1c2f2ae338b54865a59da28620520a01-0-3\" stroke-width=\"2px\" d=\"M595,177.0 C595,89.5 745.0,89.5 745.0,177.0\" fill=\"none\" stroke=\"currentColor\"/>\n",
       "    <text dy=\"1.25em\" style=\"font-size: 0.8em; letter-spacing: 1px\">\n",
       "        <textPath xlink:href=\"#arrow-1c2f2ae338b54865a59da28620520a01-0-3\" class=\"displacy-label\" startOffset=\"50%\" side=\"left\" fill=\"currentColor\" text-anchor=\"middle\">pobj</textPath>\n",
       "    </text>\n",
       "    <path class=\"displacy-arrowhead\" d=\"M745.0,179.0 L753.0,167.0 737.0,167.0\" fill=\"currentColor\"/>\n",
       "</g>\n",
       "</svg></span>"
      ],
      "text/plain": [
       "<IPython.core.display.HTML object>"
      ]
     },
     "metadata": {},
     "output_type": "display_data"
    },
    {
     "name": "stdout",
     "output_type": "stream",
     "text": [
      "Nests  --  nsubjpass\n",
      "are  --  auxpass\n",
      "built  --  ROOT\n",
      "by  --  agent\n",
      "birds  --  pobj\n"
     ]
    },
    {
     "data": {
      "text/html": [
       "<span class=\"tex2jax_ignore\"><svg xmlns=\"http://www.w3.org/2000/svg\" xmlns:xlink=\"http://www.w3.org/1999/xlink\" xml:lang=\"en\" id=\"65b0624e89504483849fccfd2ff128f5-0\" class=\"displacy\" width=\"925\" height=\"312.0\" direction=\"ltr\" style=\"max-width: none; height: 312.0px; color: #000000; background: #ffffff; font-family: Arial; direction: ltr\">\n",
       "<text class=\"displacy-token\" fill=\"currentColor\" text-anchor=\"middle\" y=\"222.0\">\n",
       "    <tspan class=\"displacy-word\" fill=\"currentColor\" x=\"50\">Nests</tspan>\n",
       "    <tspan class=\"displacy-tag\" dy=\"2em\" fill=\"currentColor\" x=\"50\">NOUN</tspan>\n",
       "</text>\n",
       "\n",
       "<text class=\"displacy-token\" fill=\"currentColor\" text-anchor=\"middle\" y=\"222.0\">\n",
       "    <tspan class=\"displacy-word\" fill=\"currentColor\" x=\"225\">are</tspan>\n",
       "    <tspan class=\"displacy-tag\" dy=\"2em\" fill=\"currentColor\" x=\"225\">AUX</tspan>\n",
       "</text>\n",
       "\n",
       "<text class=\"displacy-token\" fill=\"currentColor\" text-anchor=\"middle\" y=\"222.0\">\n",
       "    <tspan class=\"displacy-word\" fill=\"currentColor\" x=\"400\">built</tspan>\n",
       "    <tspan class=\"displacy-tag\" dy=\"2em\" fill=\"currentColor\" x=\"400\">VERB</tspan>\n",
       "</text>\n",
       "\n",
       "<text class=\"displacy-token\" fill=\"currentColor\" text-anchor=\"middle\" y=\"222.0\">\n",
       "    <tspan class=\"displacy-word\" fill=\"currentColor\" x=\"575\">by</tspan>\n",
       "    <tspan class=\"displacy-tag\" dy=\"2em\" fill=\"currentColor\" x=\"575\">ADP</tspan>\n",
       "</text>\n",
       "\n",
       "<text class=\"displacy-token\" fill=\"currentColor\" text-anchor=\"middle\" y=\"222.0\">\n",
       "    <tspan class=\"displacy-word\" fill=\"currentColor\" x=\"750\">birds</tspan>\n",
       "    <tspan class=\"displacy-tag\" dy=\"2em\" fill=\"currentColor\" x=\"750\">NOUN</tspan>\n",
       "</text>\n",
       "\n",
       "<g class=\"displacy-arrow\">\n",
       "    <path class=\"displacy-arc\" id=\"arrow-65b0624e89504483849fccfd2ff128f5-0-0\" stroke-width=\"2px\" d=\"M70,177.0 C70,2.0 400.0,2.0 400.0,177.0\" fill=\"none\" stroke=\"currentColor\"/>\n",
       "    <text dy=\"1.25em\" style=\"font-size: 0.8em; letter-spacing: 1px\">\n",
       "        <textPath xlink:href=\"#arrow-65b0624e89504483849fccfd2ff128f5-0-0\" class=\"displacy-label\" startOffset=\"50%\" side=\"left\" fill=\"currentColor\" text-anchor=\"middle\">nsubjpass</textPath>\n",
       "    </text>\n",
       "    <path class=\"displacy-arrowhead\" d=\"M70,179.0 L62,167.0 78,167.0\" fill=\"currentColor\"/>\n",
       "</g>\n",
       "\n",
       "<g class=\"displacy-arrow\">\n",
       "    <path class=\"displacy-arc\" id=\"arrow-65b0624e89504483849fccfd2ff128f5-0-1\" stroke-width=\"2px\" d=\"M245,177.0 C245,89.5 395.0,89.5 395.0,177.0\" fill=\"none\" stroke=\"currentColor\"/>\n",
       "    <text dy=\"1.25em\" style=\"font-size: 0.8em; letter-spacing: 1px\">\n",
       "        <textPath xlink:href=\"#arrow-65b0624e89504483849fccfd2ff128f5-0-1\" class=\"displacy-label\" startOffset=\"50%\" side=\"left\" fill=\"currentColor\" text-anchor=\"middle\">auxpass</textPath>\n",
       "    </text>\n",
       "    <path class=\"displacy-arrowhead\" d=\"M245,179.0 L237,167.0 253,167.0\" fill=\"currentColor\"/>\n",
       "</g>\n",
       "\n",
       "<g class=\"displacy-arrow\">\n",
       "    <path class=\"displacy-arc\" id=\"arrow-65b0624e89504483849fccfd2ff128f5-0-2\" stroke-width=\"2px\" d=\"M420,177.0 C420,89.5 570.0,89.5 570.0,177.0\" fill=\"none\" stroke=\"currentColor\"/>\n",
       "    <text dy=\"1.25em\" style=\"font-size: 0.8em; letter-spacing: 1px\">\n",
       "        <textPath xlink:href=\"#arrow-65b0624e89504483849fccfd2ff128f5-0-2\" class=\"displacy-label\" startOffset=\"50%\" side=\"left\" fill=\"currentColor\" text-anchor=\"middle\">agent</textPath>\n",
       "    </text>\n",
       "    <path class=\"displacy-arrowhead\" d=\"M570.0,179.0 L578.0,167.0 562.0,167.0\" fill=\"currentColor\"/>\n",
       "</g>\n",
       "\n",
       "<g class=\"displacy-arrow\">\n",
       "    <path class=\"displacy-arc\" id=\"arrow-65b0624e89504483849fccfd2ff128f5-0-3\" stroke-width=\"2px\" d=\"M595,177.0 C595,89.5 745.0,89.5 745.0,177.0\" fill=\"none\" stroke=\"currentColor\"/>\n",
       "    <text dy=\"1.25em\" style=\"font-size: 0.8em; letter-spacing: 1px\">\n",
       "        <textPath xlink:href=\"#arrow-65b0624e89504483849fccfd2ff128f5-0-3\" class=\"displacy-label\" startOffset=\"50%\" side=\"left\" fill=\"currentColor\" text-anchor=\"middle\">pobj</textPath>\n",
       "    </text>\n",
       "    <path class=\"displacy-arrowhead\" d=\"M745.0,179.0 L753.0,167.0 737.0,167.0\" fill=\"currentColor\"/>\n",
       "</g>\n",
       "</svg></span>"
      ],
      "text/plain": [
       "<IPython.core.display.HTML object>"
      ]
     },
     "metadata": {},
     "output_type": "display_data"
    }
   ],
   "source": [
    "print(\"Active Voice Sentences\")\n",
    "print(\"------------------------------------------------------------------\")\n",
    "for sent in active:\n",
    "    doc = nlp(sent)\n",
    "\n",
    "    for token in doc:\n",
    "        print(token.text, \" -- \", token.dep_)\n",
    "    \n",
    "    displacy.render(doc, style=\"dep\")\n",
    "\n",
    "print(\"\\n\")\n",
    "print(\"Passive Voice Sentences\")\n",
    "print(\"------------------------------------------------------------------\")\n",
    "for sent in passive:\n",
    "    doc = nlp(sent)\n",
    "\n",
    "    for token in doc:\n",
    "        print(token.text, \" -- \", token.dep_)\n",
    "    \n",
    "    displacy.render(doc, style=\"dep\")"
   ]
  },
  {
   "cell_type": "markdown",
   "id": "d66ed048",
   "metadata": {
    "papermill": {
     "duration": 0.022164,
     "end_time": "2021-12-02T11:06:09.808328",
     "exception": false,
     "start_time": "2021-12-02T11:06:09.786164",
     "status": "completed"
    },
    "tags": []
   },
   "source": [
    "## Creating a Rule for `passive voice`"
   ]
  },
  {
   "cell_type": "code",
   "execution_count": 6,
   "id": "befe3bd3",
   "metadata": {
    "execution": {
     "iopub.execute_input": "2021-12-02T11:06:09.859529Z",
     "iopub.status.busy": "2021-12-02T11:06:09.858805Z",
     "iopub.status.idle": "2021-12-02T11:06:09.870074Z",
     "shell.execute_reply": "2021-12-02T11:06:09.870550Z",
     "shell.execute_reply.started": "2021-12-02T11:01:23.701799Z"
    },
    "papermill": {
     "duration": 0.040477,
     "end_time": "2021-12-02T11:06:09.870785",
     "exception": false,
     "start_time": "2021-12-02T11:06:09.830308",
     "status": "completed"
    },
    "tags": []
   },
   "outputs": [
    {
     "data": {
      "text/plain": [
       "[(15740618714089435985, 0, 1)]"
      ]
     },
     "execution_count": 6,
     "metadata": {},
     "output_type": "execute_result"
    }
   ],
   "source": [
    "passive_rule = [{'DEP':'nsubjpass'}]\n",
    "\n",
    "matcher = Matcher(nlp.vocab)\n",
    "matcher.add(\"Rule\", [passive_rule])\n",
    "matcher(nlp(passive[0]))"
   ]
  },
  {
   "cell_type": "markdown",
   "id": "7a20ee7f",
   "metadata": {
    "papermill": {
     "duration": 0.022383,
     "end_time": "2021-12-02T11:06:09.915630",
     "exception": false,
     "start_time": "2021-12-02T11:06:09.893247",
     "status": "completed"
    },
    "tags": []
   },
   "source": [
    "## `Passive Voice` : A Function"
   ]
  },
  {
   "cell_type": "code",
   "execution_count": 7,
   "id": "86cd64eb",
   "metadata": {
    "execution": {
     "iopub.execute_input": "2021-12-02T11:06:09.968699Z",
     "iopub.status.busy": "2021-12-02T11:06:09.967810Z",
     "iopub.status.idle": "2021-12-02T11:06:09.970749Z",
     "shell.execute_reply": "2021-12-02T11:06:09.970054Z",
     "shell.execute_reply.started": "2021-12-02T11:03:33.178258Z"
    },
    "papermill": {
     "duration": 0.032183,
     "end_time": "2021-12-02T11:06:09.971091",
     "exception": false,
     "start_time": "2021-12-02T11:06:09.938908",
     "status": "completed"
    },
    "tags": []
   },
   "outputs": [],
   "source": [
    "def is_passive(doc):\n",
    "    \n",
    "    passive_rule = [{'DEP':{\"IN\":['nsubjpass', 'auxpass']}}]\n",
    "\n",
    "    matcher = Matcher(nlp.vocab)\n",
    "    matcher.add(\"Rule\", [passive_rule])\n",
    "    \n",
    "    if len(matcher(doc)) > 0:\n",
    "        words = []\n",
    "        \n",
    "        for match in matcher(doc):\n",
    "            words.append(doc[match[1]:match[2]])\n",
    "            \n",
    "        return True, words\n",
    "    else:\n",
    "        return False"
   ]
  },
  {
   "cell_type": "markdown",
   "id": "4d8cc15b",
   "metadata": {
    "papermill": {
     "duration": 0.02272,
     "end_time": "2021-12-02T11:06:10.016345",
     "exception": false,
     "start_time": "2021-12-02T11:06:09.993625",
     "status": "completed"
    },
    "tags": []
   },
   "source": [
    "## Verifying All Parses"
   ]
  },
  {
   "cell_type": "code",
   "execution_count": 8,
   "id": "ea7f10c5",
   "metadata": {
    "execution": {
     "iopub.execute_input": "2021-12-02T11:06:10.071273Z",
     "iopub.status.busy": "2021-12-02T11:06:10.069471Z",
     "iopub.status.idle": "2021-12-02T11:06:10.086231Z",
     "shell.execute_reply": "2021-12-02T11:06:10.085421Z",
     "shell.execute_reply.started": "2021-12-02T11:03:39.466881Z"
    },
    "papermill": {
     "duration": 0.046738,
     "end_time": "2021-12-02T11:06:10.086439",
     "exception": false,
     "start_time": "2021-12-02T11:06:10.039701",
     "status": "completed"
    },
    "tags": []
   },
   "outputs": [
    {
     "name": "stdout",
     "output_type": "stream",
     "text": [
      "False\n",
      "False\n"
     ]
    }
   ],
   "source": [
    "for sent in active:\n",
    "    doc = nlp(sent)\n",
    "    print(is_passive(doc))"
   ]
  },
  {
   "cell_type": "code",
   "execution_count": 9,
   "id": "f0b4ad0c",
   "metadata": {
    "execution": {
     "iopub.execute_input": "2021-12-02T11:06:10.137857Z",
     "iopub.status.busy": "2021-12-02T11:06:10.137171Z",
     "iopub.status.idle": "2021-12-02T11:06:10.157303Z",
     "shell.execute_reply": "2021-12-02T11:06:10.156684Z",
     "shell.execute_reply.started": "2021-12-02T11:03:41.187942Z"
    },
    "papermill": {
     "duration": 0.048314,
     "end_time": "2021-12-02T11:06:10.157452",
     "exception": false,
     "start_time": "2021-12-02T11:06:10.109138",
     "status": "completed"
    },
    "tags": []
   },
   "outputs": [
    {
     "name": "stdout",
     "output_type": "stream",
     "text": [
      "(True, [Eggs, are])\n",
      "(True, [Nests, are])\n"
     ]
    }
   ],
   "source": [
    "for sent in passive:\n",
    "    doc = nlp(sent)\n",
    "    print(is_passive(doc))"
   ]
  },
  {
   "cell_type": "markdown",
   "id": "70c08873",
   "metadata": {
    "papermill": {
     "duration": 0.022481,
     "end_time": "2021-12-02T11:06:10.202995",
     "exception": false,
     "start_time": "2021-12-02T11:06:10.180514",
     "status": "completed"
    },
    "tags": []
   },
   "source": [
    "## A Dataset"
   ]
  },
  {
   "cell_type": "code",
   "execution_count": 10,
   "id": "9a45aa36",
   "metadata": {
    "execution": {
     "iopub.execute_input": "2021-12-02T11:06:10.254203Z",
     "iopub.status.busy": "2021-12-02T11:06:10.253498Z",
     "iopub.status.idle": "2021-12-02T11:06:10.278514Z",
     "shell.execute_reply": "2021-12-02T11:06:10.279264Z",
     "shell.execute_reply.started": "2021-12-02T11:01:23.776188Z"
    },
    "papermill": {
     "duration": 0.053918,
     "end_time": "2021-12-02T11:06:10.279448",
     "exception": false,
     "start_time": "2021-12-02T11:06:10.225530",
     "status": "completed"
    },
    "tags": []
   },
   "outputs": [
    {
     "data": {
      "text/html": [
       "<div>\n",
       "<style scoped>\n",
       "    .dataframe tbody tr th:only-of-type {\n",
       "        vertical-align: middle;\n",
       "    }\n",
       "\n",
       "    .dataframe tbody tr th {\n",
       "        vertical-align: top;\n",
       "    }\n",
       "\n",
       "    .dataframe thead th {\n",
       "        text-align: right;\n",
       "    }\n",
       "</style>\n",
       "<table border=\"1\" class=\"dataframe\">\n",
       "  <thead>\n",
       "    <tr style=\"text-align: right;\">\n",
       "      <th></th>\n",
       "      <th>Active</th>\n",
       "      <th>Passive</th>\n",
       "    </tr>\n",
       "  </thead>\n",
       "  <tbody>\n",
       "    <tr>\n",
       "      <th>0</th>\n",
       "      <td>He reads a novel.</td>\n",
       "      <td>A novel is read.</td>\n",
       "    </tr>\n",
       "    <tr>\n",
       "      <th>1</th>\n",
       "      <td>He does not cook food.</td>\n",
       "      <td>Food is not cooked by him.</td>\n",
       "    </tr>\n",
       "  </tbody>\n",
       "</table>\n",
       "</div>"
      ],
      "text/plain": [
       "                   Active                     Passive\n",
       "0       He reads a novel.            A novel is read.\n",
       "1  He does not cook food.  Food is not cooked by him."
      ]
     },
     "execution_count": 10,
     "metadata": {},
     "output_type": "execute_result"
    }
   ],
   "source": [
    "active_passive = pd.read_csv(\"../input/activepassive/active_passive.csv\")\n",
    "active_passive.head(2)"
   ]
  },
  {
   "cell_type": "code",
   "execution_count": 11,
   "id": "d143428a",
   "metadata": {
    "execution": {
     "iopub.execute_input": "2021-12-02T11:06:10.332355Z",
     "iopub.status.busy": "2021-12-02T11:06:10.331664Z",
     "iopub.status.idle": "2021-12-02T11:06:10.334883Z",
     "shell.execute_reply": "2021-12-02T11:06:10.335438Z",
     "shell.execute_reply.started": "2021-12-02T11:01:23.792838Z"
    },
    "papermill": {
     "duration": 0.032665,
     "end_time": "2021-12-02T11:06:10.335635",
     "exception": false,
     "start_time": "2021-12-02T11:06:10.302970",
     "status": "completed"
    },
    "tags": []
   },
   "outputs": [
    {
     "data": {
      "text/plain": [
       "(40, 2)"
      ]
     },
     "execution_count": 11,
     "metadata": {},
     "output_type": "execute_result"
    }
   ],
   "source": [
    "active_passive.shape"
   ]
  },
  {
   "cell_type": "code",
   "execution_count": 12,
   "id": "9ac4ab55",
   "metadata": {
    "execution": {
     "iopub.execute_input": "2021-12-02T11:06:10.392445Z",
     "iopub.status.busy": "2021-12-02T11:06:10.391785Z",
     "iopub.status.idle": "2021-12-02T11:06:10.394796Z",
     "shell.execute_reply": "2021-12-02T11:06:10.394229Z",
     "shell.execute_reply.started": "2021-12-02T11:01:23.800529Z"
    },
    "papermill": {
     "duration": 0.035595,
     "end_time": "2021-12-02T11:06:10.394961",
     "exception": false,
     "start_time": "2021-12-02T11:06:10.359366",
     "status": "completed"
    },
    "tags": []
   },
   "outputs": [],
   "source": [
    "active_set = active_passive.Active\n",
    "passive_set = active_passive.Passive"
   ]
  },
  {
   "cell_type": "markdown",
   "id": "bfd45fbd",
   "metadata": {
    "papermill": {
     "duration": 0.023247,
     "end_time": "2021-12-02T11:06:10.441582",
     "exception": false,
     "start_time": "2021-12-02T11:06:10.418335",
     "status": "completed"
    },
    "tags": []
   },
   "source": [
    "## Check Function on `Active Sentences`"
   ]
  },
  {
   "cell_type": "code",
   "execution_count": 13,
   "id": "e8c569f0",
   "metadata": {
    "execution": {
     "iopub.execute_input": "2021-12-02T11:06:10.495477Z",
     "iopub.status.busy": "2021-12-02T11:06:10.494695Z",
     "iopub.status.idle": "2021-12-02T11:06:10.792437Z",
     "shell.execute_reply": "2021-12-02T11:06:10.793206Z",
     "shell.execute_reply.started": "2021-12-02T11:01:23.815119Z"
    },
    "papermill": {
     "duration": 0.328367,
     "end_time": "2021-12-02T11:06:10.793472",
     "exception": false,
     "start_time": "2021-12-02T11:06:10.465105",
     "status": "completed"
    },
    "tags": []
   },
   "outputs": [
    {
     "name": "stdout",
     "output_type": "stream",
     "text": [
      "Active Sentences :  40\n"
     ]
    }
   ],
   "source": [
    "cnt = 0\n",
    "for sent in active_passive.Active:\n",
    "    if not is_passive(nlp(sent)):\n",
    "        cnt += 1\n",
    "        \n",
    "print(\"Active Sentences : \", cnt)"
   ]
  },
  {
   "cell_type": "markdown",
   "id": "0293aafd",
   "metadata": {
    "papermill": {
     "duration": 0.0238,
     "end_time": "2021-12-02T11:06:10.842272",
     "exception": false,
     "start_time": "2021-12-02T11:06:10.818472",
     "status": "completed"
    },
    "tags": []
   },
   "source": [
    "## Check Function on `Passive Sentences`"
   ]
  },
  {
   "cell_type": "code",
   "execution_count": 14,
   "id": "fd5cf2fa",
   "metadata": {
    "execution": {
     "iopub.execute_input": "2021-12-02T11:06:10.894280Z",
     "iopub.status.busy": "2021-12-02T11:06:10.893552Z",
     "iopub.status.idle": "2021-12-02T11:06:11.168227Z",
     "shell.execute_reply": "2021-12-02T11:06:11.168788Z",
     "shell.execute_reply.started": "2021-12-02T11:03:51.392761Z"
    },
    "papermill": {
     "duration": 0.302559,
     "end_time": "2021-12-02T11:06:11.169007",
     "exception": false,
     "start_time": "2021-12-02T11:06:10.866448",
     "status": "completed"
    },
    "tags": []
   },
   "outputs": [
    {
     "name": "stdout",
     "output_type": "stream",
     "text": [
      "Passive Sentences :  40\n"
     ]
    }
   ],
   "source": [
    "cnt = 0\n",
    "for sent in active_passive.Passive:\n",
    "    if is_passive(nlp(sent)):\n",
    "        cnt += 1\n",
    "        \n",
    "print(\"Passive Sentences : \", cnt)"
   ]
  }
 ],
 "metadata": {
  "kernelspec": {
   "display_name": "Python 3",
   "language": "python",
   "name": "python3"
  },
  "language_info": {
   "codemirror_mode": {
    "name": "ipython",
    "version": 3
   },
   "file_extension": ".py",
   "mimetype": "text/x-python",
   "name": "python",
   "nbconvert_exporter": "python",
   "pygments_lexer": "ipython3",
   "version": "3.7.10"
  },
  "papermill": {
   "default_parameters": {},
   "duration": 26.692147,
   "end_time": "2021-12-02T11:06:14.503709",
   "environment_variables": {},
   "exception": null,
   "input_path": "__notebook__.ipynb",
   "output_path": "__notebook__.ipynb",
   "parameters": {},
   "start_time": "2021-12-02T11:05:47.811562",
   "version": "2.3.3"
  }
 },
 "nbformat": 4,
 "nbformat_minor": 5
}
